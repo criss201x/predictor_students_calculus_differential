{
 "cells": [
  {
   "cell_type": "code",
   "execution_count": 1,
   "id": "c95db052-6efe-4c9e-8d64-c65aa23a67fc",
   "metadata": {},
   "outputs": [],
   "source": [
    "from math import sqrt\n",
    "import numpy as np # linear algebra\n",
    "import pandas as pd # data processing, CSV file I/O (e.g. pd.read_csv)\n",
    "from sklearn.preprocessing import LabelEncoder\n",
    "import matplotlib.pyplot as plt\n",
    "import category_encoders as ce\n",
    "from sklearn import preprocessing\n",
    "from sklearn.preprocessing import StandardScaler\n",
    "from sklearn.model_selection import train_test_split, GridSearchCV\n",
    "from sklearn.linear_model import LogisticRegression, LinearRegression, Ridge\n",
    "from sklearn.metrics import confusion_matrix\n",
    "from sklearn.metrics import accuracy_score\n",
    "from sklearn.tree import DecisionTreeRegressor\n",
    "from sklearn.ensemble import RandomForestRegressor, AdaBoostRegressor, GradientBoostingRegressor\n",
    "from sklearn.decomposition import PCA\n",
    "from sklearn.neighbors import KNeighborsRegressor\n",
    "from lightgbm import LGBMRegressor\n",
    "from sklearn.metrics import mean_absolute_error, mean_squared_error, r2_score\n",
    "import xgboost as xgb\n",
    "from xgboost.sklearn import XGBRegressor\n",
    "import matplotlib.pyplot as plt\n",
    "import seaborn as sns\n",
    "import warnings\n",
    "warnings.filterwarnings(\"ignore\")"
   ]
  },
  {
   "cell_type": "code",
   "execution_count": 2,
   "id": "3def43a2-255b-4ea6-8650-31d7276622f4",
   "metadata": {},
   "outputs": [],
   "source": [
    "df_actual = pd.read_csv(\"estudiantes_calculo_actualv2.csv\",delimiter=',')\n",
    "df_historico = pd.read_csv(\"estudiantes_calculo_historicov2.csv\",delimiter=',')"
   ]
  },
  {
   "cell_type": "code",
   "execution_count": 3,
   "id": "c6addf0f-19f0-4677-a55e-296215ef2982",
   "metadata": {},
   "outputs": [
    {
     "data": {
      "text/html": [
       "<div>\n",
       "<style scoped>\n",
       "    .dataframe tbody tr th:only-of-type {\n",
       "        vertical-align: middle;\n",
       "    }\n",
       "\n",
       "    .dataframe tbody tr th {\n",
       "        vertical-align: top;\n",
       "    }\n",
       "\n",
       "    .dataframe thead th {\n",
       "        text-align: right;\n",
       "    }\n",
       "</style>\n",
       "<table border=\"1\" class=\"dataframe\">\n",
       "  <thead>\n",
       "    <tr style=\"text-align: right;\">\n",
       "      <th></th>\n",
       "      <th>EST_COD</th>\n",
       "      <th>ASP_SEXO</th>\n",
       "      <th>ASP_ESTRATO</th>\n",
       "      <th>ASP_FECHA_NAC</th>\n",
       "      <th>ASP_LUG_NAC</th>\n",
       "      <th>TIPO_COD</th>\n",
       "      <th>TIPOI</th>\n",
       "      <th>PUNTAJE_ICFES</th>\n",
       "      <th>EST_VALOR_MATRICULA</th>\n",
       "      <th>CRA_COD</th>\n",
       "      <th>...</th>\n",
       "      <th>PER</th>\n",
       "      <th>FACULTAD</th>\n",
       "      <th>TIPO_PROGRAMA</th>\n",
       "      <th>ASP_LOCALIDAD</th>\n",
       "      <th>ASP_DEP_NAC</th>\n",
       "      <th>ASP_SNP</th>\n",
       "      <th>ASP_TIPO_COLEGIO</th>\n",
       "      <th>ASP_LOCALIDAD_COLEGIO</th>\n",
       "      <th>ASP_TRABAJA</th>\n",
       "      <th>ANIO_ICFES</th>\n",
       "    </tr>\n",
       "  </thead>\n",
       "  <tbody>\n",
       "    <tr>\n",
       "      <th>1063</th>\n",
       "      <td>20232574091</td>\n",
       "      <td>M</td>\n",
       "      <td>1.0</td>\n",
       "      <td>2001-09-21 00:00:00.000</td>\n",
       "      <td>11001.0</td>\n",
       "      <td>1</td>\n",
       "      <td>NORMAL</td>\n",
       "      <td>255.0</td>\n",
       "      <td>116000.0</td>\n",
       "      <td>574</td>\n",
       "      <td>...</td>\n",
       "      <td>3</td>\n",
       "      <td>FACULTAD DE TECNOLOGIA - POLITECNICA / TECNOLO...</td>\n",
       "      <td>3</td>\n",
       "      <td>7.0</td>\n",
       "      <td>11.0</td>\n",
       "      <td>AC202040086702</td>\n",
       "      <td>O</td>\n",
       "      <td>7.0</td>\n",
       "      <td>NO</td>\n",
       "      <td>2020</td>\n",
       "    </tr>\n",
       "    <tr>\n",
       "      <th>1933</th>\n",
       "      <td>20232015329</td>\n",
       "      <td>F</td>\n",
       "      <td>2.0</td>\n",
       "      <td>2003-11-10 00:00:00.000</td>\n",
       "      <td>11001.0</td>\n",
       "      <td>1</td>\n",
       "      <td>NORMAL</td>\n",
       "      <td>305.0</td>\n",
       "      <td>185600.0</td>\n",
       "      <td>15</td>\n",
       "      <td>...</td>\n",
       "      <td>3</td>\n",
       "      <td>FACULTAD DE INGENIERIA</td>\n",
       "      <td>1</td>\n",
       "      <td>8.0</td>\n",
       "      <td>11.0</td>\n",
       "      <td>AC202146522148</td>\n",
       "      <td>O</td>\n",
       "      <td>8.0</td>\n",
       "      <td>NO</td>\n",
       "      <td>2021</td>\n",
       "    </tr>\n",
       "    <tr>\n",
       "      <th>2276</th>\n",
       "      <td>20222574100</td>\n",
       "      <td>M</td>\n",
       "      <td>1.0</td>\n",
       "      <td>2001-07-04 00:00:00.000</td>\n",
       "      <td>25754.0</td>\n",
       "      <td>1</td>\n",
       "      <td>NORMAL</td>\n",
       "      <td>270.0</td>\n",
       "      <td>116000.0</td>\n",
       "      <td>574</td>\n",
       "      <td>...</td>\n",
       "      <td>3</td>\n",
       "      <td>FACULTAD DE TECNOLOGIA - POLITECNICA / TECNOLO...</td>\n",
       "      <td>3</td>\n",
       "      <td>26.0</td>\n",
       "      <td>25.0</td>\n",
       "      <td>AC201910703439</td>\n",
       "      <td>P</td>\n",
       "      <td>26.0</td>\n",
       "      <td>SI</td>\n",
       "      <td>2019</td>\n",
       "    </tr>\n",
       "    <tr>\n",
       "      <th>596</th>\n",
       "      <td>20231578105</td>\n",
       "      <td>F</td>\n",
       "      <td>2.0</td>\n",
       "      <td>2006-02-13 00:00:00.000</td>\n",
       "      <td>11001.0</td>\n",
       "      <td>1</td>\n",
       "      <td>NORMAL</td>\n",
       "      <td>312.0</td>\n",
       "      <td>951200.0</td>\n",
       "      <td>578</td>\n",
       "      <td>...</td>\n",
       "      <td>3</td>\n",
       "      <td>FACULTAD DE TECNOLOGIA - POLITECNICA / TECNOLO...</td>\n",
       "      <td>3</td>\n",
       "      <td>4.0</td>\n",
       "      <td>11.0</td>\n",
       "      <td>AC202242936193</td>\n",
       "      <td>P</td>\n",
       "      <td>4.0</td>\n",
       "      <td>NO</td>\n",
       "      <td>2022</td>\n",
       "    </tr>\n",
       "    <tr>\n",
       "      <th>19</th>\n",
       "      <td>20222578101</td>\n",
       "      <td>M</td>\n",
       "      <td>1.0</td>\n",
       "      <td>2003-07-15 00:00:00.000</td>\n",
       "      <td>11001.0</td>\n",
       "      <td>1</td>\n",
       "      <td>NORMAL</td>\n",
       "      <td>287.0</td>\n",
       "      <td>116000.0</td>\n",
       "      <td>578</td>\n",
       "      <td>...</td>\n",
       "      <td>3</td>\n",
       "      <td>FACULTAD DE TECNOLOGIA - POLITECNICA / TECNOLO...</td>\n",
       "      <td>3</td>\n",
       "      <td>19.0</td>\n",
       "      <td>11.0</td>\n",
       "      <td>AC202040317206</td>\n",
       "      <td>O</td>\n",
       "      <td>19.0</td>\n",
       "      <td>NO</td>\n",
       "      <td>2020</td>\n",
       "    </tr>\n",
       "    <tr>\n",
       "      <th>2787</th>\n",
       "      <td>20232673073</td>\n",
       "      <td>M</td>\n",
       "      <td>2.0</td>\n",
       "      <td>2001-11-10 00:00:00.000</td>\n",
       "      <td>25175.0</td>\n",
       "      <td>1</td>\n",
       "      <td>NORMAL</td>\n",
       "      <td>277.0</td>\n",
       "      <td>185600.0</td>\n",
       "      <td>673</td>\n",
       "      <td>...</td>\n",
       "      <td>3</td>\n",
       "      <td>FACULTAD DE TECNOLOGIA - POLITECNICA / TECNOLO...</td>\n",
       "      <td>3</td>\n",
       "      <td>25.0</td>\n",
       "      <td>25.0</td>\n",
       "      <td>AC202042054781</td>\n",
       "      <td>O</td>\n",
       "      <td>25.0</td>\n",
       "      <td>NO</td>\n",
       "      <td>2020</td>\n",
       "    </tr>\n",
       "    <tr>\n",
       "      <th>2548</th>\n",
       "      <td>20232001128</td>\n",
       "      <td>M</td>\n",
       "      <td>2.0</td>\n",
       "      <td>2001-09-28 00:00:00.000</td>\n",
       "      <td>52250.0</td>\n",
       "      <td>1</td>\n",
       "      <td>NORMAL</td>\n",
       "      <td>185.0</td>\n",
       "      <td>420000.0</td>\n",
       "      <td>1</td>\n",
       "      <td>...</td>\n",
       "      <td>3</td>\n",
       "      <td>FACULTAD DEL MEDIO AMBIENTE Y RECURSOS NATURALES</td>\n",
       "      <td>13</td>\n",
       "      <td>7.0</td>\n",
       "      <td>52.0</td>\n",
       "      <td>AC202210445247</td>\n",
       "      <td>P</td>\n",
       "      <td>8.0</td>\n",
       "      <td>NO</td>\n",
       "      <td>2022</td>\n",
       "    </tr>\n",
       "    <tr>\n",
       "      <th>2201</th>\n",
       "      <td>20232020111</td>\n",
       "      <td>M</td>\n",
       "      <td>3.0</td>\n",
       "      <td>2002-03-20 00:00:00.000</td>\n",
       "      <td>73268.0</td>\n",
       "      <td>1</td>\n",
       "      <td>NORMAL</td>\n",
       "      <td>352.0</td>\n",
       "      <td>2394240.0</td>\n",
       "      <td>20</td>\n",
       "      <td>...</td>\n",
       "      <td>3</td>\n",
       "      <td>FACULTAD DE INGENIERIA</td>\n",
       "      <td>1</td>\n",
       "      <td>14.0</td>\n",
       "      <td>73.0</td>\n",
       "      <td>AC202244592242</td>\n",
       "      <td>O</td>\n",
       "      <td>6.0</td>\n",
       "      <td>NO</td>\n",
       "      <td>2022</td>\n",
       "    </tr>\n",
       "    <tr>\n",
       "      <th>2815</th>\n",
       "      <td>20232010051</td>\n",
       "      <td>M</td>\n",
       "      <td>2.0</td>\n",
       "      <td>2006-07-02 00:00:00.000</td>\n",
       "      <td>11001.0</td>\n",
       "      <td>1</td>\n",
       "      <td>NORMAL</td>\n",
       "      <td>317.0</td>\n",
       "      <td>185600.0</td>\n",
       "      <td>10</td>\n",
       "      <td>...</td>\n",
       "      <td>3</td>\n",
       "      <td>FACULTAD DEL MEDIO AMBIENTE Y RECURSOS NATURALES</td>\n",
       "      <td>1</td>\n",
       "      <td>9.0</td>\n",
       "      <td>11.0</td>\n",
       "      <td>AC202245095237</td>\n",
       "      <td>O</td>\n",
       "      <td>25.0</td>\n",
       "      <td>NO</td>\n",
       "      <td>2022</td>\n",
       "    </tr>\n",
       "    <tr>\n",
       "      <th>2961</th>\n",
       "      <td>20232578028</td>\n",
       "      <td>M</td>\n",
       "      <td>2.0</td>\n",
       "      <td>2003-09-18 00:00:00.000</td>\n",
       "      <td>11001.0</td>\n",
       "      <td>1</td>\n",
       "      <td>NORMAL</td>\n",
       "      <td>327.0</td>\n",
       "      <td>185600.0</td>\n",
       "      <td>578</td>\n",
       "      <td>...</td>\n",
       "      <td>3</td>\n",
       "      <td>FACULTAD DE TECNOLOGIA - POLITECNICA / TECNOLO...</td>\n",
       "      <td>3</td>\n",
       "      <td>19.0</td>\n",
       "      <td>11.0</td>\n",
       "      <td>AC202143645868</td>\n",
       "      <td>O</td>\n",
       "      <td>3.0</td>\n",
       "      <td>NO</td>\n",
       "      <td>2021</td>\n",
       "    </tr>\n",
       "  </tbody>\n",
       "</table>\n",
       "<p>10 rows × 24 columns</p>\n",
       "</div>"
      ],
      "text/plain": [
       "          EST_COD ASP_SEXO  ASP_ESTRATO            ASP_FECHA_NAC  ASP_LUG_NAC  \\\n",
       "1063  20232574091        M          1.0  2001-09-21 00:00:00.000      11001.0   \n",
       "1933  20232015329        F          2.0  2003-11-10 00:00:00.000      11001.0   \n",
       "2276  20222574100        M          1.0  2001-07-04 00:00:00.000      25754.0   \n",
       "596   20231578105        F          2.0  2006-02-13 00:00:00.000      11001.0   \n",
       "19    20222578101        M          1.0  2003-07-15 00:00:00.000      11001.0   \n",
       "2787  20232673073        M          2.0  2001-11-10 00:00:00.000      25175.0   \n",
       "2548  20232001128        M          2.0  2001-09-28 00:00:00.000      52250.0   \n",
       "2201  20232020111        M          3.0  2002-03-20 00:00:00.000      73268.0   \n",
       "2815  20232010051        M          2.0  2006-07-02 00:00:00.000      11001.0   \n",
       "2961  20232578028        M          2.0  2003-09-18 00:00:00.000      11001.0   \n",
       "\n",
       "      TIPO_COD   TIPOI  PUNTAJE_ICFES  EST_VALOR_MATRICULA  CRA_COD  ... PER  \\\n",
       "1063         1  NORMAL          255.0             116000.0      574  ...   3   \n",
       "1933         1  NORMAL          305.0             185600.0       15  ...   3   \n",
       "2276         1  NORMAL          270.0             116000.0      574  ...   3   \n",
       "596          1  NORMAL          312.0             951200.0      578  ...   3   \n",
       "19           1  NORMAL          287.0             116000.0      578  ...   3   \n",
       "2787         1  NORMAL          277.0             185600.0      673  ...   3   \n",
       "2548         1  NORMAL          185.0             420000.0        1  ...   3   \n",
       "2201         1  NORMAL          352.0            2394240.0       20  ...   3   \n",
       "2815         1  NORMAL          317.0             185600.0       10  ...   3   \n",
       "2961         1  NORMAL          327.0             185600.0      578  ...   3   \n",
       "\n",
       "                                               FACULTAD  TIPO_PROGRAMA  \\\n",
       "1063  FACULTAD DE TECNOLOGIA - POLITECNICA / TECNOLO...              3   \n",
       "1933                             FACULTAD DE INGENIERIA              1   \n",
       "2276  FACULTAD DE TECNOLOGIA - POLITECNICA / TECNOLO...              3   \n",
       "596   FACULTAD DE TECNOLOGIA - POLITECNICA / TECNOLO...              3   \n",
       "19    FACULTAD DE TECNOLOGIA - POLITECNICA / TECNOLO...              3   \n",
       "2787  FACULTAD DE TECNOLOGIA - POLITECNICA / TECNOLO...              3   \n",
       "2548   FACULTAD DEL MEDIO AMBIENTE Y RECURSOS NATURALES             13   \n",
       "2201                             FACULTAD DE INGENIERIA              1   \n",
       "2815   FACULTAD DEL MEDIO AMBIENTE Y RECURSOS NATURALES              1   \n",
       "2961  FACULTAD DE TECNOLOGIA - POLITECNICA / TECNOLO...              3   \n",
       "\n",
       "      ASP_LOCALIDAD  ASP_DEP_NAC         ASP_SNP  ASP_TIPO_COLEGIO  \\\n",
       "1063            7.0         11.0  AC202040086702                 O   \n",
       "1933            8.0         11.0  AC202146522148                 O   \n",
       "2276           26.0         25.0  AC201910703439                 P   \n",
       "596             4.0         11.0  AC202242936193                 P   \n",
       "19             19.0         11.0  AC202040317206                 O   \n",
       "2787           25.0         25.0  AC202042054781                 O   \n",
       "2548            7.0         52.0  AC202210445247                 P   \n",
       "2201           14.0         73.0  AC202244592242                 O   \n",
       "2815            9.0         11.0  AC202245095237                 O   \n",
       "2961           19.0         11.0  AC202143645868                 O   \n",
       "\n",
       "      ASP_LOCALIDAD_COLEGIO  ASP_TRABAJA ANIO_ICFES  \n",
       "1063                    7.0           NO       2020  \n",
       "1933                    8.0           NO       2021  \n",
       "2276                   26.0           SI       2019  \n",
       "596                     4.0           NO       2022  \n",
       "19                     19.0           NO       2020  \n",
       "2787                   25.0           NO       2020  \n",
       "2548                    8.0           NO       2022  \n",
       "2201                    6.0           NO       2022  \n",
       "2815                   25.0           NO       2022  \n",
       "2961                    3.0           NO       2021  \n",
       "\n",
       "[10 rows x 24 columns]"
      ]
     },
     "execution_count": 3,
     "metadata": {},
     "output_type": "execute_result"
    }
   ],
   "source": [
    "df_actual.sample(10)"
   ]
  },
  {
   "cell_type": "code",
   "execution_count": 4,
   "id": "a0c54ac5-35f8-43c4-b45b-558ec09f97ac",
   "metadata": {},
   "outputs": [
    {
     "data": {
      "text/html": [
       "<div>\n",
       "<style scoped>\n",
       "    .dataframe tbody tr th:only-of-type {\n",
       "        vertical-align: middle;\n",
       "    }\n",
       "\n",
       "    .dataframe tbody tr th {\n",
       "        vertical-align: top;\n",
       "    }\n",
       "\n",
       "    .dataframe thead th {\n",
       "        text-align: right;\n",
       "    }\n",
       "</style>\n",
       "<table border=\"1\" class=\"dataframe\">\n",
       "  <thead>\n",
       "    <tr style=\"text-align: right;\">\n",
       "      <th></th>\n",
       "      <th>EST_COD</th>\n",
       "      <th>ASP_SEXO</th>\n",
       "      <th>ASP_ESTRATO</th>\n",
       "      <th>ASP_FECHA_NAC</th>\n",
       "      <th>ASP_LUG_NAC</th>\n",
       "      <th>TIPO_COD</th>\n",
       "      <th>TIPOI</th>\n",
       "      <th>PUNTAJE_ICFES</th>\n",
       "      <th>EST_VALOR_MATRICULA</th>\n",
       "      <th>CRA_COD</th>\n",
       "      <th>...</th>\n",
       "      <th>PER</th>\n",
       "      <th>FACULTAD</th>\n",
       "      <th>TIPO_PROGRAMA</th>\n",
       "      <th>ASP_LOCALIDAD</th>\n",
       "      <th>ASP_DEP_NAC</th>\n",
       "      <th>ASP_SNP</th>\n",
       "      <th>ASP_TIPO_COLEGIO</th>\n",
       "      <th>ASP_LOCALIDAD_COLEGIO</th>\n",
       "      <th>ASP_TRABAJA</th>\n",
       "      <th>ANIO_ICFES</th>\n",
       "    </tr>\n",
       "  </thead>\n",
       "  <tbody>\n",
       "    <tr>\n",
       "      <th>37365</th>\n",
       "      <td>20151007044</td>\n",
       "      <td>M</td>\n",
       "      <td>1.0</td>\n",
       "      <td>1995-03-24 00:00:00.000</td>\n",
       "      <td>25843.0</td>\n",
       "      <td>1</td>\n",
       "      <td>NORMAL</td>\n",
       "      <td>334.0</td>\n",
       "      <td>115999.0</td>\n",
       "      <td>7</td>\n",
       "      <td>...</td>\n",
       "      <td>3</td>\n",
       "      <td>FACULTAD DE INGENIERIA</td>\n",
       "      <td>1</td>\n",
       "      <td>25.0</td>\n",
       "      <td>25.0</td>\n",
       "      <td>AC201425092226</td>\n",
       "      <td>O</td>\n",
       "      <td>25.0</td>\n",
       "      <td>NO</td>\n",
       "      <td>2014</td>\n",
       "    </tr>\n",
       "    <tr>\n",
       "      <th>5135</th>\n",
       "      <td>20192005147</td>\n",
       "      <td>M</td>\n",
       "      <td>1.0</td>\n",
       "      <td>2001-06-05 00:00:00.000</td>\n",
       "      <td>15332.0</td>\n",
       "      <td>1</td>\n",
       "      <td>NORMAL</td>\n",
       "      <td>320.0</td>\n",
       "      <td>116001.0</td>\n",
       "      <td>5</td>\n",
       "      <td>...</td>\n",
       "      <td>3</td>\n",
       "      <td>FACULTAD DE INGENIERIA</td>\n",
       "      <td>1</td>\n",
       "      <td>25.0</td>\n",
       "      <td>15.0</td>\n",
       "      <td>AC201822869782</td>\n",
       "      <td>O</td>\n",
       "      <td>25.0</td>\n",
       "      <td>NO</td>\n",
       "      <td>2018</td>\n",
       "    </tr>\n",
       "    <tr>\n",
       "      <th>49399</th>\n",
       "      <td>20221673030</td>\n",
       "      <td>M</td>\n",
       "      <td>2.0</td>\n",
       "      <td>2004-12-31 00:00:00.000</td>\n",
       "      <td>11001.0</td>\n",
       "      <td>1</td>\n",
       "      <td>NORMAL</td>\n",
       "      <td>311.0</td>\n",
       "      <td>1205311.0</td>\n",
       "      <td>673</td>\n",
       "      <td>...</td>\n",
       "      <td>3</td>\n",
       "      <td>FACULTAD DE TECNOLOGIA - POLITECNICA / TECNOLO...</td>\n",
       "      <td>3</td>\n",
       "      <td>19.0</td>\n",
       "      <td>11.0</td>\n",
       "      <td>AC202140515312</td>\n",
       "      <td>P</td>\n",
       "      <td>19.0</td>\n",
       "      <td>NO</td>\n",
       "      <td>2021</td>\n",
       "    </tr>\n",
       "    <tr>\n",
       "      <th>36408</th>\n",
       "      <td>20141020066</td>\n",
       "      <td>M</td>\n",
       "      <td>2.0</td>\n",
       "      <td>1996-10-31 00:00:00.000</td>\n",
       "      <td>11279.0</td>\n",
       "      <td>1</td>\n",
       "      <td>NORMAL</td>\n",
       "      <td>404.0</td>\n",
       "      <td>185606.0</td>\n",
       "      <td>20</td>\n",
       "      <td>...</td>\n",
       "      <td>1</td>\n",
       "      <td>FACULTAD DE INGENIERIA</td>\n",
       "      <td>1</td>\n",
       "      <td>9.0</td>\n",
       "      <td>11.0</td>\n",
       "      <td>AC201320865253</td>\n",
       "      <td>O</td>\n",
       "      <td>9.0</td>\n",
       "      <td>NO</td>\n",
       "      <td>2013</td>\n",
       "    </tr>\n",
       "    <tr>\n",
       "      <th>12343</th>\n",
       "      <td>20192578114</td>\n",
       "      <td>M</td>\n",
       "      <td>2.0</td>\n",
       "      <td>2002-11-09 00:00:00.000</td>\n",
       "      <td>11102.0</td>\n",
       "      <td>1</td>\n",
       "      <td>NORMAL</td>\n",
       "      <td>301.0</td>\n",
       "      <td>175095.0</td>\n",
       "      <td>578</td>\n",
       "      <td>...</td>\n",
       "      <td>3</td>\n",
       "      <td>FACULTAD DE TECNOLOGIA - POLITECNICA / TECNOLO...</td>\n",
       "      <td>3</td>\n",
       "      <td>7.0</td>\n",
       "      <td>11.0</td>\n",
       "      <td>AC201825243746</td>\n",
       "      <td>O</td>\n",
       "      <td>7.0</td>\n",
       "      <td>NO</td>\n",
       "      <td>2018</td>\n",
       "    </tr>\n",
       "    <tr>\n",
       "      <th>27300</th>\n",
       "      <td>20211578002</td>\n",
       "      <td>M</td>\n",
       "      <td>2.0</td>\n",
       "      <td>2004-03-23 00:00:00.000</td>\n",
       "      <td>11001.0</td>\n",
       "      <td>1</td>\n",
       "      <td>NORMAL</td>\n",
       "      <td>351.0</td>\n",
       "      <td>1184064.0</td>\n",
       "      <td>578</td>\n",
       "      <td>...</td>\n",
       "      <td>1</td>\n",
       "      <td>FACULTAD DE TECNOLOGIA - POLITECNICA / TECNOLO...</td>\n",
       "      <td>3</td>\n",
       "      <td>5.0</td>\n",
       "      <td>11.0</td>\n",
       "      <td>AC202041906841</td>\n",
       "      <td>P</td>\n",
       "      <td>5.0</td>\n",
       "      <td>NO</td>\n",
       "      <td>2020</td>\n",
       "    </tr>\n",
       "    <tr>\n",
       "      <th>24913</th>\n",
       "      <td>20172020055</td>\n",
       "      <td>M</td>\n",
       "      <td>3.0</td>\n",
       "      <td>1996-11-19 00:00:00.000</td>\n",
       "      <td>11001.0</td>\n",
       "      <td>1</td>\n",
       "      <td>NORMAL</td>\n",
       "      <td>337.0</td>\n",
       "      <td>860735.0</td>\n",
       "      <td>20</td>\n",
       "      <td>...</td>\n",
       "      <td>3</td>\n",
       "      <td>FACULTAD DE INGENIERIA</td>\n",
       "      <td>1</td>\n",
       "      <td>14.0</td>\n",
       "      <td>11.0</td>\n",
       "      <td>AC201710366591</td>\n",
       "      <td>O</td>\n",
       "      <td>12.0</td>\n",
       "      <td>NO</td>\n",
       "      <td>2017</td>\n",
       "    </tr>\n",
       "    <tr>\n",
       "      <th>14426</th>\n",
       "      <td>20121072104</td>\n",
       "      <td>M</td>\n",
       "      <td>2.0</td>\n",
       "      <td>1992-11-30 00:00:00.000</td>\n",
       "      <td>11001.0</td>\n",
       "      <td>1</td>\n",
       "      <td>NORMAL</td>\n",
       "      <td>340.0</td>\n",
       "      <td>185588.0</td>\n",
       "      <td>72</td>\n",
       "      <td>...</td>\n",
       "      <td>3</td>\n",
       "      <td>FACULTAD DE TECNOLOGIA - POLITECNICA / TECNOLO...</td>\n",
       "      <td>3</td>\n",
       "      <td>19.0</td>\n",
       "      <td>11.0</td>\n",
       "      <td>AC201125615778</td>\n",
       "      <td>O</td>\n",
       "      <td>16.0</td>\n",
       "      <td>NO</td>\n",
       "      <td>2011</td>\n",
       "    </tr>\n",
       "    <tr>\n",
       "      <th>39622</th>\n",
       "      <td>20181025047</td>\n",
       "      <td>F</td>\n",
       "      <td>2.0</td>\n",
       "      <td>2000-09-29 00:00:00.000</td>\n",
       "      <td>25754.0</td>\n",
       "      <td>1</td>\n",
       "      <td>NORMAL</td>\n",
       "      <td>329.0</td>\n",
       "      <td>660426.0</td>\n",
       "      <td>25</td>\n",
       "      <td>...</td>\n",
       "      <td>1</td>\n",
       "      <td>FACULTAD DE INGENIERIA</td>\n",
       "      <td>1</td>\n",
       "      <td>26.0</td>\n",
       "      <td>25.0</td>\n",
       "      <td>AC201726044184</td>\n",
       "      <td>P</td>\n",
       "      <td>26.0</td>\n",
       "      <td>NO</td>\n",
       "      <td>2017</td>\n",
       "    </tr>\n",
       "    <tr>\n",
       "      <th>50208</th>\n",
       "      <td>20131031055</td>\n",
       "      <td>M</td>\n",
       "      <td>2.0</td>\n",
       "      <td>1995-07-16 00:00:00.000</td>\n",
       "      <td>25754.0</td>\n",
       "      <td>1</td>\n",
       "      <td>NORMAL</td>\n",
       "      <td>365.0</td>\n",
       "      <td>185602.0</td>\n",
       "      <td>31</td>\n",
       "      <td>...</td>\n",
       "      <td>1</td>\n",
       "      <td>FACULTAD DEL MEDIO AMBIENTE Y RECURSOS NATURALES</td>\n",
       "      <td>3</td>\n",
       "      <td>26.0</td>\n",
       "      <td>25.0</td>\n",
       "      <td>AC201227683402</td>\n",
       "      <td>O</td>\n",
       "      <td>8.0</td>\n",
       "      <td>NO</td>\n",
       "      <td>2012</td>\n",
       "    </tr>\n",
       "  </tbody>\n",
       "</table>\n",
       "<p>10 rows × 24 columns</p>\n",
       "</div>"
      ],
      "text/plain": [
       "           EST_COD ASP_SEXO  ASP_ESTRATO            ASP_FECHA_NAC  \\\n",
       "37365  20151007044        M          1.0  1995-03-24 00:00:00.000   \n",
       "5135   20192005147        M          1.0  2001-06-05 00:00:00.000   \n",
       "49399  20221673030        M          2.0  2004-12-31 00:00:00.000   \n",
       "36408  20141020066        M          2.0  1996-10-31 00:00:00.000   \n",
       "12343  20192578114        M          2.0  2002-11-09 00:00:00.000   \n",
       "27300  20211578002        M          2.0  2004-03-23 00:00:00.000   \n",
       "24913  20172020055        M          3.0  1996-11-19 00:00:00.000   \n",
       "14426  20121072104        M          2.0  1992-11-30 00:00:00.000   \n",
       "39622  20181025047        F          2.0  2000-09-29 00:00:00.000   \n",
       "50208  20131031055        M          2.0  1995-07-16 00:00:00.000   \n",
       "\n",
       "       ASP_LUG_NAC  TIPO_COD   TIPOI  PUNTAJE_ICFES  EST_VALOR_MATRICULA  \\\n",
       "37365      25843.0         1  NORMAL          334.0             115999.0   \n",
       "5135       15332.0         1  NORMAL          320.0             116001.0   \n",
       "49399      11001.0         1  NORMAL          311.0            1205311.0   \n",
       "36408      11279.0         1  NORMAL          404.0             185606.0   \n",
       "12343      11102.0         1  NORMAL          301.0             175095.0   \n",
       "27300      11001.0         1  NORMAL          351.0            1184064.0   \n",
       "24913      11001.0         1  NORMAL          337.0             860735.0   \n",
       "14426      11001.0         1  NORMAL          340.0             185588.0   \n",
       "39622      25754.0         1  NORMAL          329.0             660426.0   \n",
       "50208      25754.0         1  NORMAL          365.0             185602.0   \n",
       "\n",
       "       CRA_COD  ... PER                                           FACULTAD  \\\n",
       "37365        7  ...   3                             FACULTAD DE INGENIERIA   \n",
       "5135         5  ...   3                             FACULTAD DE INGENIERIA   \n",
       "49399      673  ...   3  FACULTAD DE TECNOLOGIA - POLITECNICA / TECNOLO...   \n",
       "36408       20  ...   1                             FACULTAD DE INGENIERIA   \n",
       "12343      578  ...   3  FACULTAD DE TECNOLOGIA - POLITECNICA / TECNOLO...   \n",
       "27300      578  ...   1  FACULTAD DE TECNOLOGIA - POLITECNICA / TECNOLO...   \n",
       "24913       20  ...   3                             FACULTAD DE INGENIERIA   \n",
       "14426       72  ...   3  FACULTAD DE TECNOLOGIA - POLITECNICA / TECNOLO...   \n",
       "39622       25  ...   1                             FACULTAD DE INGENIERIA   \n",
       "50208       31  ...   1   FACULTAD DEL MEDIO AMBIENTE Y RECURSOS NATURALES   \n",
       "\n",
       "       TIPO_PROGRAMA  ASP_LOCALIDAD  ASP_DEP_NAC         ASP_SNP  \\\n",
       "37365              1           25.0         25.0  AC201425092226   \n",
       "5135               1           25.0         15.0  AC201822869782   \n",
       "49399              3           19.0         11.0  AC202140515312   \n",
       "36408              1            9.0         11.0  AC201320865253   \n",
       "12343              3            7.0         11.0  AC201825243746   \n",
       "27300              3            5.0         11.0  AC202041906841   \n",
       "24913              1           14.0         11.0  AC201710366591   \n",
       "14426              3           19.0         11.0  AC201125615778   \n",
       "39622              1           26.0         25.0  AC201726044184   \n",
       "50208              3           26.0         25.0  AC201227683402   \n",
       "\n",
       "       ASP_TIPO_COLEGIO  ASP_LOCALIDAD_COLEGIO  ASP_TRABAJA ANIO_ICFES  \n",
       "37365                 O                   25.0           NO       2014  \n",
       "5135                  O                   25.0           NO       2018  \n",
       "49399                 P                   19.0           NO       2021  \n",
       "36408                 O                    9.0           NO       2013  \n",
       "12343                 O                    7.0           NO       2018  \n",
       "27300                 P                    5.0           NO       2020  \n",
       "24913                 O                   12.0           NO       2017  \n",
       "14426                 O                   16.0           NO       2011  \n",
       "39622                 P                   26.0           NO       2017  \n",
       "50208                 O                    8.0           NO       2012  \n",
       "\n",
       "[10 rows x 24 columns]"
      ]
     },
     "execution_count": 4,
     "metadata": {},
     "output_type": "execute_result"
    }
   ],
   "source": [
    "df_historico.sample(10)"
   ]
  },
  {
   "cell_type": "code",
   "execution_count": 5,
   "id": "476b8a34-189b-4d87-a3ed-d6a68774c905",
   "metadata": {},
   "outputs": [
    {
     "name": "stdout",
     "output_type": "stream",
     "text": [
      "<class 'pandas.core.frame.DataFrame'>\n",
      "RangeIndex: 3008 entries, 0 to 3007\n",
      "Data columns (total 24 columns):\n",
      " #   Column                 Non-Null Count  Dtype  \n",
      "---  ------                 --------------  -----  \n",
      " 0   EST_COD                3008 non-null   int64  \n",
      " 1   ASP_SEXO               3008 non-null   object \n",
      " 2   ASP_ESTRATO            3006 non-null   float64\n",
      " 3   ASP_FECHA_NAC          3008 non-null   object \n",
      " 4   ASP_LUG_NAC            3000 non-null   float64\n",
      " 5   TIPO_COD               3008 non-null   int64  \n",
      " 6   TIPOI                  3008 non-null   object \n",
      " 7   PUNTAJE_ICFES          3005 non-null   float64\n",
      " 8   EST_VALOR_MATRICULA    3005 non-null   float64\n",
      " 9   CRA_COD                3008 non-null   int64  \n",
      " 10  CARRERA                3008 non-null   object \n",
      " 11  ASI_COD                3008 non-null   int64  \n",
      " 12  NOTA                   3008 non-null   int64  \n",
      " 13  ANO                    3008 non-null   int64  \n",
      " 14  PER                    3008 non-null   int64  \n",
      " 15  FACULTAD               3008 non-null   object \n",
      " 16  TIPO_PROGRAMA          3008 non-null   int64  \n",
      " 17  ASP_LOCALIDAD          3004 non-null   float64\n",
      " 18  ASP_DEP_NAC            3000 non-null   float64\n",
      " 19  ASP_SNP                3008 non-null   object \n",
      " 20  ASP_TIPO_COLEGIO       2999 non-null   object \n",
      " 21  ASP_LOCALIDAD_COLEGIO  3001 non-null   float64\n",
      " 22  ASP_TRABAJA            3008 non-null   object \n",
      " 23  ANIO_ICFES             3008 non-null   int64  \n",
      "dtypes: float64(7), int64(9), object(8)\n",
      "memory usage: 564.1+ KB\n"
     ]
    }
   ],
   "source": [
    "df_actual.info()"
   ]
  },
  {
   "cell_type": "code",
   "execution_count": 6,
   "id": "3365d19a-33e8-4e86-bcd7-df93709defa6",
   "metadata": {},
   "outputs": [
    {
     "name": "stdout",
     "output_type": "stream",
     "text": [
      "<class 'pandas.core.frame.DataFrame'>\n",
      "RangeIndex: 56982 entries, 0 to 56981\n",
      "Data columns (total 24 columns):\n",
      " #   Column                 Non-Null Count  Dtype  \n",
      "---  ------                 --------------  -----  \n",
      " 0   EST_COD                56982 non-null  int64  \n",
      " 1   ASP_SEXO               56982 non-null  object \n",
      " 2   ASP_ESTRATO            56976 non-null  float64\n",
      " 3   ASP_FECHA_NAC          56982 non-null  object \n",
      " 4   ASP_LUG_NAC            56858 non-null  float64\n",
      " 5   TIPO_COD               56982 non-null  int64  \n",
      " 6   TIPOI                  56982 non-null  object \n",
      " 7   PUNTAJE_ICFES          56818 non-null  float64\n",
      " 8   EST_VALOR_MATRICULA    56146 non-null  float64\n",
      " 9   CRA_COD                56982 non-null  int64  \n",
      " 10  CARRERA                56982 non-null  object \n",
      " 11  ASI_COD                56982 non-null  int64  \n",
      " 12  NOTA                   56982 non-null  int64  \n",
      " 13  ANO                    56982 non-null  int64  \n",
      " 14  PER                    56982 non-null  int64  \n",
      " 15  FACULTAD               56982 non-null  object \n",
      " 16  TIPO_PROGRAMA          56982 non-null  int64  \n",
      " 17  ASP_LOCALIDAD          56968 non-null  float64\n",
      " 18  ASP_DEP_NAC            56858 non-null  float64\n",
      " 19  ASP_SNP                56982 non-null  object \n",
      " 20  ASP_TIPO_COLEGIO       55707 non-null  object \n",
      " 21  ASP_LOCALIDAD_COLEGIO  56931 non-null  float64\n",
      " 22  ASP_TRABAJA            56982 non-null  object \n",
      " 23  ANIO_ICFES             56982 non-null  int64  \n",
      "dtypes: float64(7), int64(9), object(8)\n",
      "memory usage: 10.4+ MB\n"
     ]
    }
   ],
   "source": [
    "df_historico.info()"
   ]
  },
  {
   "cell_type": "code",
   "execution_count": 7,
   "id": "b07d51a9-103a-4d63-9192-ea702546eb0d",
   "metadata": {},
   "outputs": [
    {
     "data": {
      "text/plain": [
       "30    6604\n",
       "0     3523\n",
       "31    3015\n",
       "32    2342\n",
       "33    2092\n",
       "34    1915\n",
       "35    1809\n",
       "36    1718\n",
       "25    1467\n",
       "37    1464\n",
       "38    1256\n",
       "24    1214\n",
       "20    1190\n",
       "26    1170\n",
       "22    1169\n",
       "23    1150\n",
       "21    1137\n",
       "39    1120\n",
       "40    1092\n",
       "18    1017\n",
       "19     945\n",
       "27     940\n",
       "15     926\n",
       "14     882\n",
       "16     880\n",
       "17     866\n",
       "10     831\n",
       "41     830\n",
       "12     821\n",
       "28     781\n",
       "42     767\n",
       "13     766\n",
       "11     759\n",
       "7      732\n",
       "4      719\n",
       "9      711\n",
       "8      697\n",
       "6      648\n",
       "43     608\n",
       "2      594\n",
       "5      593\n",
       "3      538\n",
       "1      509\n",
       "44     507\n",
       "45     398\n",
       "46     296\n",
       "29     275\n",
       "47     250\n",
       "48     171\n",
       "49     139\n",
       "50     139\n",
       "Name: NOTA, dtype: int64"
      ]
     },
     "execution_count": 7,
     "metadata": {},
     "output_type": "execute_result"
    }
   ],
   "source": [
    "df_historico.NOTA.value_counts()#la mayoria de estudiantes pasan con 3!!!!"
   ]
  },
  {
   "cell_type": "code",
   "execution_count": 8,
   "id": "83056492-3c34-4e1a-9fae-0b466a7108c4",
   "metadata": {},
   "outputs": [
    {
     "data": {
      "text/plain": [
       "0     267\n",
       "30    184\n",
       "25    128\n",
       "24    108\n",
       "22    101\n",
       "26     89\n",
       "23     88\n",
       "31     88\n",
       "19     86\n",
       "21     84\n",
       "32     84\n",
       "20     84\n",
       "27     81\n",
       "18     75\n",
       "15     70\n",
       "34     68\n",
       "17     68\n",
       "9      67\n",
       "7      67\n",
       "11     63\n",
       "28     63\n",
       "8      62\n",
       "16     61\n",
       "35     61\n",
       "13     56\n",
       "10     55\n",
       "33     54\n",
       "5      52\n",
       "36     51\n",
       "38     51\n",
       "29     47\n",
       "4      46\n",
       "37     46\n",
       "14     45\n",
       "12     45\n",
       "6      42\n",
       "2      36\n",
       "39     29\n",
       "3      28\n",
       "41     27\n",
       "40     26\n",
       "1      24\n",
       "42     22\n",
       "44     10\n",
       "43      9\n",
       "45      6\n",
       "46      3\n",
       "49      1\n",
       "Name: NOTA, dtype: int64"
      ]
     },
     "execution_count": 8,
     "metadata": {},
     "output_type": "execute_result"
    }
   ],
   "source": [
    "df_actual.NOTA.value_counts()#la nota parcial predominante es 0 debido a que los estudiantes desertan o nunca ocuparon el cupo "
   ]
  },
  {
   "cell_type": "code",
   "execution_count": 9,
   "id": "6568c505-c0b5-472f-b392-4920be3cace9",
   "metadata": {},
   "outputs": [
    {
     "data": {
      "text/plain": [
       "0       False\n",
       "1       False\n",
       "2       False\n",
       "3       False\n",
       "4       False\n",
       "        ...  \n",
       "3003    False\n",
       "3004    False\n",
       "3005    False\n",
       "3006    False\n",
       "3007    False\n",
       "Length: 3008, dtype: bool"
      ]
     },
     "execution_count": 9,
     "metadata": {},
     "output_type": "execute_result"
    }
   ],
   "source": [
    "df_actual.isna().any(axis=1)"
   ]
  },
  {
   "cell_type": "code",
   "execution_count": 10,
   "id": "67348dbd-44d4-4d2d-b0e2-ab409b6cab05",
   "metadata": {
    "tags": []
   },
   "outputs": [
    {
     "data": {
      "text/plain": [
       "EST_COD                     0\n",
       "ASP_SEXO                    0\n",
       "ASP_ESTRATO                 6\n",
       "ASP_FECHA_NAC               0\n",
       "ASP_LUG_NAC               124\n",
       "TIPO_COD                    0\n",
       "TIPOI                       0\n",
       "PUNTAJE_ICFES             164\n",
       "EST_VALOR_MATRICULA       836\n",
       "CRA_COD                     0\n",
       "CARRERA                     0\n",
       "ASI_COD                     0\n",
       "NOTA                        0\n",
       "ANO                         0\n",
       "PER                         0\n",
       "FACULTAD                    0\n",
       "TIPO_PROGRAMA               0\n",
       "ASP_LOCALIDAD              14\n",
       "ASP_DEP_NAC               124\n",
       "ASP_SNP                     0\n",
       "ASP_TIPO_COLEGIO         1275\n",
       "ASP_LOCALIDAD_COLEGIO      51\n",
       "ASP_TRABAJA                 0\n",
       "ANIO_ICFES                  0\n",
       "dtype: int64"
      ]
     },
     "execution_count": 10,
     "metadata": {},
     "output_type": "execute_result"
    }
   ],
   "source": [
    "df_historico.isnull().sum()"
   ]
  },
  {
   "cell_type": "code",
   "execution_count": null,
   "id": "d665434e-fbac-4ba6-95ee-576b2eeac409",
   "metadata": {},
   "outputs": [],
   "source": []
  },
  {
   "cell_type": "code",
   "execution_count": 11,
   "id": "8a349817-6d91-47f2-8e41-7191207bc6db",
   "metadata": {},
   "outputs": [
    {
     "data": {
      "text/plain": [
       "EST_COD                  0\n",
       "ASP_SEXO                 0\n",
       "ASP_ESTRATO              2\n",
       "ASP_FECHA_NAC            0\n",
       "ASP_LUG_NAC              8\n",
       "TIPO_COD                 0\n",
       "TIPOI                    0\n",
       "PUNTAJE_ICFES            3\n",
       "EST_VALOR_MATRICULA      3\n",
       "CRA_COD                  0\n",
       "CARRERA                  0\n",
       "ASI_COD                  0\n",
       "NOTA                     0\n",
       "ANO                      0\n",
       "PER                      0\n",
       "FACULTAD                 0\n",
       "TIPO_PROGRAMA            0\n",
       "ASP_LOCALIDAD            4\n",
       "ASP_DEP_NAC              8\n",
       "ASP_SNP                  0\n",
       "ASP_TIPO_COLEGIO         9\n",
       "ASP_LOCALIDAD_COLEGIO    7\n",
       "ASP_TRABAJA              0\n",
       "ANIO_ICFES               0\n",
       "dtype: int64"
      ]
     },
     "execution_count": 11,
     "metadata": {},
     "output_type": "execute_result"
    }
   ],
   "source": [
    "df_actual.isnull().sum()"
   ]
  },
  {
   "cell_type": "markdown",
   "id": "05258d26-cddb-4fd2-bff6-da84594dc030",
   "metadata": {},
   "source": [
    "### imputamos valores donde sea razonable "
   ]
  },
  {
   "cell_type": "code",
   "execution_count": 12,
   "id": "e69880ef-f1cd-4ed3-ad2e-7ff570ca3991",
   "metadata": {},
   "outputs": [],
   "source": [
    "min_range = 1\n",
    "max_range = 5\n",
    "\n",
    "# Replace values out of range with NaN\n",
    "df_actual.loc[~df_actual['ASP_ESTRATO'].between(min_range, max_range), 'ASP_ESTRATO'] = np.nan\n",
    "\n",
    "df_actual['ASP_ESTRATO'].fillna(df_actual['ASP_ESTRATO'].mode().iloc[0], inplace=True)\n",
    "df_actual['EST_VALOR_MATRICULA'].fillna(df_actual['EST_VALOR_MATRICULA'].mode().iloc[0], inplace=True)\n",
    "df_actual['NOTA'].fillna(df_actual['NOTA'].mean(), inplace=True)\n",
    "df_actual['ASP_LUG_NAC'].fillna(df_actual['ASP_LUG_NAC'].mode().iloc[0], inplace=True)\n",
    "df_actual['PUNTAJE_ICFES'].fillna(df_actual['PUNTAJE_ICFES'].mean(), inplace=True)\n",
    "df_actual['EST_VALOR_MATRICULA'].fillna(df_actual['EST_VALOR_MATRICULA'].mode().iloc[0], inplace=True)\n",
    "df_actual['ASP_LOCALIDAD'].fillna(df_actual['ASP_LOCALIDAD'].mode().iloc[0], inplace=True)\n",
    "df_actual['ASP_DEP_NAC'].fillna(df_actual['ASP_DEP_NAC'].mode().iloc[0], inplace=True)\n",
    "df_actual['ASP_TIPO_COLEGIO'].fillna(df_actual['ASP_TIPO_COLEGIO'].mode().iloc[0], inplace=True)\n",
    "df_actual['ASP_LOCALIDAD_COLEGIO'].fillna(df_actual['ASP_LOCALIDAD_COLEGIO'].mode().iloc[0], inplace=True)"
   ]
  },
  {
   "cell_type": "code",
   "execution_count": 13,
   "id": "1bea7936-9c58-42d9-9c80-1761271b4efd",
   "metadata": {},
   "outputs": [],
   "source": [
    "min_range = 1\n",
    "max_range = 6\n",
    "\n",
    "# Replace values out of range with NaN\n",
    "df_historico.loc[~df_historico['ASP_ESTRATO'].between(min_range, max_range), 'ASP_ESTRATO'] = np.nan\n",
    "\n",
    "df_historico['ASP_ESTRATO'].fillna(df_historico['ASP_ESTRATO'].mode().iloc[0], inplace=True)\n",
    "df_historico['EST_VALOR_MATRICULA'].fillna(df_historico['EST_VALOR_MATRICULA'].mode().iloc[0], inplace=True)\n",
    "df_historico['NOTA'].fillna(df_historico['NOTA'].mean(), inplace=True)\n",
    "df_historico['ASP_LUG_NAC'].fillna(df_historico['ASP_LUG_NAC'].mode().iloc[0], inplace=True)\n",
    "df_historico['PUNTAJE_ICFES'].fillna(df_historico['PUNTAJE_ICFES'].mean(), inplace=True)\n",
    "df_historico['EST_VALOR_MATRICULA'].fillna(df_historico['EST_VALOR_MATRICULA'].mode().iloc[0], inplace=True)\n",
    "df_historico['ASP_LOCALIDAD'].fillna(df_historico['ASP_LOCALIDAD'].mode().iloc[0], inplace=True)\n",
    "df_historico['ASP_DEP_NAC'].fillna(df_historico['ASP_DEP_NAC'].mode().iloc[0], inplace=True)\n",
    "df_historico['ASP_TIPO_COLEGIO'].fillna(df_historico['ASP_TIPO_COLEGIO'].mode().iloc[0], inplace=True)\n",
    "df_historico['ASP_LOCALIDAD_COLEGIO'].fillna(df_historico['ASP_LOCALIDAD_COLEGIO'].mode().iloc[0], inplace=True)"
   ]
  },
  {
   "cell_type": "code",
   "execution_count": 14,
   "id": "4dd0607a-daad-416f-bdac-762fa71bd820",
   "metadata": {},
   "outputs": [],
   "source": [
    "df_actual['ASP_FECHA_NAC'] = pd.to_datetime(df_actual['ASP_FECHA_NAC'])\n",
    "df_historico['ASP_FECHA_NAC'] = pd.to_datetime(df_historico['ASP_FECHA_NAC'])"
   ]
  },
  {
   "cell_type": "code",
   "execution_count": 15,
   "id": "feeda3e3-8df1-4fc8-a2db-e726f21993f4",
   "metadata": {},
   "outputs": [],
   "source": [
    "df_actual['EDAD'] = df_actual['ANO'] - df_actual['ASP_FECHA_NAC'].dt.year \n",
    "df_historico['EDAD'] = df_historico['ANO'] - df_historico['ASP_FECHA_NAC'].dt.year "
   ]
  },
  {
   "cell_type": "code",
   "execution_count": 16,
   "id": "7da0772b-48e1-46bf-ba4f-261cf43be818",
   "metadata": {},
   "outputs": [],
   "source": [
    "df_actual['APRUEBA'] = np.where(df_actual['NOTA'] < 30, 0, 1)\n",
    "df_historico['APRUEBA'] = np.where(df_historico['NOTA'] < 30, 0, 1)"
   ]
  },
  {
   "cell_type": "code",
   "execution_count": 18,
   "id": "3975e067-4ac6-493c-8a44-61797aaa757f",
   "metadata": {},
   "outputs": [
    {
     "data": {
      "text/plain": [
       "1    28532\n",
       "0    28450\n",
       "Name: APRUEBA, dtype: int64"
      ]
     },
     "execution_count": 18,
     "metadata": {},
     "output_type": "execute_result"
    }
   ],
   "source": [
    "df_historico['APRUEBA'].value_counts()#ya de aqui yace un problema"
   ]
  },
  {
   "cell_type": "code",
   "execution_count": 19,
   "id": "91c01de6-7fb3-4134-9c38-e1f1c5d656c3",
   "metadata": {},
   "outputs": [
    {
     "data": {
      "text/plain": [
       "EST_COD                  0\n",
       "ASP_SEXO                 0\n",
       "ASP_ESTRATO              0\n",
       "ASP_FECHA_NAC            0\n",
       "ASP_LUG_NAC              0\n",
       "TIPO_COD                 0\n",
       "TIPOI                    0\n",
       "PUNTAJE_ICFES            0\n",
       "EST_VALOR_MATRICULA      0\n",
       "CRA_COD                  0\n",
       "CARRERA                  0\n",
       "ASI_COD                  0\n",
       "NOTA                     0\n",
       "ANO                      0\n",
       "PER                      0\n",
       "FACULTAD                 0\n",
       "TIPO_PROGRAMA            0\n",
       "ASP_LOCALIDAD            0\n",
       "ASP_DEP_NAC              0\n",
       "ASP_SNP                  0\n",
       "ASP_TIPO_COLEGIO         0\n",
       "ASP_LOCALIDAD_COLEGIO    0\n",
       "ASP_TRABAJA              0\n",
       "ANIO_ICFES               0\n",
       "EDAD                     0\n",
       "APRUEBA                  0\n",
       "dtype: int64"
      ]
     },
     "execution_count": 19,
     "metadata": {},
     "output_type": "execute_result"
    }
   ],
   "source": [
    "df_historico.isnull().sum()"
   ]
  },
  {
   "cell_type": "code",
   "execution_count": 20,
   "id": "e3567246-13f6-4a4a-ba40-726d36902cd7",
   "metadata": {},
   "outputs": [
    {
     "data": {
      "text/plain": [
       "EST_COD                  0\n",
       "ASP_SEXO                 0\n",
       "ASP_ESTRATO              0\n",
       "ASP_FECHA_NAC            0\n",
       "ASP_LUG_NAC              0\n",
       "TIPO_COD                 0\n",
       "TIPOI                    0\n",
       "PUNTAJE_ICFES            0\n",
       "EST_VALOR_MATRICULA      0\n",
       "CRA_COD                  0\n",
       "CARRERA                  0\n",
       "ASI_COD                  0\n",
       "NOTA                     0\n",
       "ANO                      0\n",
       "PER                      0\n",
       "FACULTAD                 0\n",
       "TIPO_PROGRAMA            0\n",
       "ASP_LOCALIDAD            0\n",
       "ASP_DEP_NAC              0\n",
       "ASP_SNP                  0\n",
       "ASP_TIPO_COLEGIO         0\n",
       "ASP_LOCALIDAD_COLEGIO    0\n",
       "ASP_TRABAJA              0\n",
       "ANIO_ICFES               0\n",
       "EDAD                     0\n",
       "APRUEBA                  0\n",
       "dtype: int64"
      ]
     },
     "execution_count": 20,
     "metadata": {},
     "output_type": "execute_result"
    }
   ],
   "source": [
    "df_actual.isnull().sum()"
   ]
  },
  {
   "cell_type": "code",
   "execution_count": 21,
   "id": "e66ad8da-fa94-4501-bf92-6c61ab4f906d",
   "metadata": {},
   "outputs": [
    {
     "data": {
      "text/plain": [
       "(56982, 26)"
      ]
     },
     "execution_count": 21,
     "metadata": {},
     "output_type": "execute_result"
    }
   ],
   "source": [
    "df_historico.shape"
   ]
  },
  {
   "cell_type": "code",
   "execution_count": 22,
   "id": "7bc5cbf9-253d-4298-8201-c35d6f409c44",
   "metadata": {},
   "outputs": [
    {
     "data": {
      "text/plain": [
       "(3008, 26)"
      ]
     },
     "execution_count": 22,
     "metadata": {},
     "output_type": "execute_result"
    }
   ],
   "source": [
    "df_actual.shape"
   ]
  },
  {
   "cell_type": "code",
   "execution_count": 23,
   "id": "e713b061-5115-4538-8692-1fefcfc10b49",
   "metadata": {},
   "outputs": [
    {
     "data": {
      "text/html": [
       "<div>\n",
       "<style scoped>\n",
       "    .dataframe tbody tr th:only-of-type {\n",
       "        vertical-align: middle;\n",
       "    }\n",
       "\n",
       "    .dataframe tbody tr th {\n",
       "        vertical-align: top;\n",
       "    }\n",
       "\n",
       "    .dataframe thead th {\n",
       "        text-align: right;\n",
       "    }\n",
       "</style>\n",
       "<table border=\"1\" class=\"dataframe\">\n",
       "  <thead>\n",
       "    <tr style=\"text-align: right;\">\n",
       "      <th></th>\n",
       "      <th>EST_COD</th>\n",
       "      <th>ASP_ESTRATO</th>\n",
       "      <th>ASP_LUG_NAC</th>\n",
       "      <th>TIPO_COD</th>\n",
       "      <th>PUNTAJE_ICFES</th>\n",
       "      <th>EST_VALOR_MATRICULA</th>\n",
       "      <th>CRA_COD</th>\n",
       "      <th>ASI_COD</th>\n",
       "      <th>NOTA</th>\n",
       "      <th>ANO</th>\n",
       "      <th>PER</th>\n",
       "      <th>TIPO_PROGRAMA</th>\n",
       "      <th>ASP_LOCALIDAD</th>\n",
       "      <th>ASP_DEP_NAC</th>\n",
       "      <th>ASP_LOCALIDAD_COLEGIO</th>\n",
       "      <th>ANIO_ICFES</th>\n",
       "      <th>EDAD</th>\n",
       "      <th>APRUEBA</th>\n",
       "    </tr>\n",
       "  </thead>\n",
       "  <tbody>\n",
       "    <tr>\n",
       "      <th>count</th>\n",
       "      <td>5.698200e+04</td>\n",
       "      <td>56982.000000</td>\n",
       "      <td>56982.000000</td>\n",
       "      <td>56982.000000</td>\n",
       "      <td>56982.000000</td>\n",
       "      <td>5.698200e+04</td>\n",
       "      <td>56982.000000</td>\n",
       "      <td>5.698200e+04</td>\n",
       "      <td>56982.000000</td>\n",
       "      <td>56982.000000</td>\n",
       "      <td>56982.000000</td>\n",
       "      <td>56982.000000</td>\n",
       "      <td>56982.000000</td>\n",
       "      <td>56982.000000</td>\n",
       "      <td>56982.000000</td>\n",
       "      <td>56982.000000</td>\n",
       "      <td>56982.000000</td>\n",
       "      <td>56982.000000</td>\n",
       "    </tr>\n",
       "    <tr>\n",
       "      <th>mean</th>\n",
       "      <td>2.017407e+10</td>\n",
       "      <td>2.123302</td>\n",
       "      <td>16472.637658</td>\n",
       "      <td>2.246534</td>\n",
       "      <td>339.517106</td>\n",
       "      <td>5.116292e+05</td>\n",
       "      <td>206.607911</td>\n",
       "      <td>2.212006e+04</td>\n",
       "      <td>24.643624</td>\n",
       "      <td>2017.615914</td>\n",
       "      <td>1.959636</td>\n",
       "      <td>3.125057</td>\n",
       "      <td>12.895985</td>\n",
       "      <td>15.524868</td>\n",
       "      <td>13.479186</td>\n",
       "      <td>2015.761381</td>\n",
       "      <td>19.325980</td>\n",
       "      <td>0.500720</td>\n",
       "    </tr>\n",
       "    <tr>\n",
       "      <th>std</th>\n",
       "      <td>3.075256e+07</td>\n",
       "      <td>0.661975</td>\n",
       "      <td>15774.839343</td>\n",
       "      <td>5.210776</td>\n",
       "      <td>47.756451</td>\n",
       "      <td>5.556146e+05</td>\n",
       "      <td>245.569839</td>\n",
       "      <td>8.237310e+05</td>\n",
       "      <td>12.556079</td>\n",
       "      <td>3.016384</td>\n",
       "      <td>0.996045</td>\n",
       "      <td>3.483856</td>\n",
       "      <td>8.176274</td>\n",
       "      <td>13.272178</td>\n",
       "      <td>9.059089</td>\n",
       "      <td>3.248311</td>\n",
       "      <td>2.529245</td>\n",
       "      <td>0.500004</td>\n",
       "    </tr>\n",
       "    <tr>\n",
       "      <th>min</th>\n",
       "      <td>2.000108e+10</td>\n",
       "      <td>1.000000</td>\n",
       "      <td>0.000000</td>\n",
       "      <td>1.000000</td>\n",
       "      <td>0.000000</td>\n",
       "      <td>0.000000e+00</td>\n",
       "      <td>1.000000</td>\n",
       "      <td>1.000000e+00</td>\n",
       "      <td>0.000000</td>\n",
       "      <td>2013.000000</td>\n",
       "      <td>1.000000</td>\n",
       "      <td>1.000000</td>\n",
       "      <td>1.000000</td>\n",
       "      <td>0.000000</td>\n",
       "      <td>0.000000</td>\n",
       "      <td>1999.000000</td>\n",
       "      <td>9.000000</td>\n",
       "      <td>0.000000</td>\n",
       "    </tr>\n",
       "    <tr>\n",
       "      <th>25%</th>\n",
       "      <td>2.015103e+10</td>\n",
       "      <td>2.000000</td>\n",
       "      <td>11001.000000</td>\n",
       "      <td>1.000000</td>\n",
       "      <td>310.000000</td>\n",
       "      <td>1.739910e+05</td>\n",
       "      <td>15.000000</td>\n",
       "      <td>1.000000e+00</td>\n",
       "      <td>15.000000</td>\n",
       "      <td>2015.000000</td>\n",
       "      <td>1.000000</td>\n",
       "      <td>1.000000</td>\n",
       "      <td>7.000000</td>\n",
       "      <td>11.000000</td>\n",
       "      <td>7.000000</td>\n",
       "      <td>2013.000000</td>\n",
       "      <td>18.000000</td>\n",
       "      <td>0.000000</td>\n",
       "    </tr>\n",
       "    <tr>\n",
       "      <th>50%</th>\n",
       "      <td>2.017201e+10</td>\n",
       "      <td>2.000000</td>\n",
       "      <td>11001.000000</td>\n",
       "      <td>1.000000</td>\n",
       "      <td>335.200000</td>\n",
       "      <td>1.856020e+05</td>\n",
       "      <td>78.000000</td>\n",
       "      <td>1.000000e+00</td>\n",
       "      <td>30.000000</td>\n",
       "      <td>2017.000000</td>\n",
       "      <td>1.000000</td>\n",
       "      <td>3.000000</td>\n",
       "      <td>10.000000</td>\n",
       "      <td>11.000000</td>\n",
       "      <td>10.000000</td>\n",
       "      <td>2016.000000</td>\n",
       "      <td>19.000000</td>\n",
       "      <td>1.000000</td>\n",
       "    </tr>\n",
       "    <tr>\n",
       "      <th>75%</th>\n",
       "      <td>2.020103e+10</td>\n",
       "      <td>3.000000</td>\n",
       "      <td>11102.000000</td>\n",
       "      <td>1.000000</td>\n",
       "      <td>367.000000</td>\n",
       "      <td>8.607320e+05</td>\n",
       "      <td>379.000000</td>\n",
       "      <td>1.000000e+00</td>\n",
       "      <td>34.000000</td>\n",
       "      <td>2020.000000</td>\n",
       "      <td>3.000000</td>\n",
       "      <td>3.000000</td>\n",
       "      <td>19.000000</td>\n",
       "      <td>11.000000</td>\n",
       "      <td>19.000000</td>\n",
       "      <td>2018.000000</td>\n",
       "      <td>20.000000</td>\n",
       "      <td>1.000000</td>\n",
       "    </tr>\n",
       "    <tr>\n",
       "      <th>max</th>\n",
       "      <td>2.023173e+10</td>\n",
       "      <td>6.000000</td>\n",
       "      <td>99999.000000</td>\n",
       "      <td>32.000000</td>\n",
       "      <td>614.000000</td>\n",
       "      <td>1.531200e+07</td>\n",
       "      <td>979.000000</td>\n",
       "      <td>3.780104e+07</td>\n",
       "      <td>50.000000</td>\n",
       "      <td>2023.000000</td>\n",
       "      <td>3.000000</td>\n",
       "      <td>19.000000</td>\n",
       "      <td>99.000000</td>\n",
       "      <td>99.000000</td>\n",
       "      <td>99.000000</td>\n",
       "      <td>2022.000000</td>\n",
       "      <td>65.000000</td>\n",
       "      <td>1.000000</td>\n",
       "    </tr>\n",
       "  </tbody>\n",
       "</table>\n",
       "</div>"
      ],
      "text/plain": [
       "            EST_COD   ASP_ESTRATO   ASP_LUG_NAC      TIPO_COD  PUNTAJE_ICFES  \\\n",
       "count  5.698200e+04  56982.000000  56982.000000  56982.000000   56982.000000   \n",
       "mean   2.017407e+10      2.123302  16472.637658      2.246534     339.517106   \n",
       "std    3.075256e+07      0.661975  15774.839343      5.210776      47.756451   \n",
       "min    2.000108e+10      1.000000      0.000000      1.000000       0.000000   \n",
       "25%    2.015103e+10      2.000000  11001.000000      1.000000     310.000000   \n",
       "50%    2.017201e+10      2.000000  11001.000000      1.000000     335.200000   \n",
       "75%    2.020103e+10      3.000000  11102.000000      1.000000     367.000000   \n",
       "max    2.023173e+10      6.000000  99999.000000     32.000000     614.000000   \n",
       "\n",
       "       EST_VALOR_MATRICULA       CRA_COD       ASI_COD          NOTA  \\\n",
       "count         5.698200e+04  56982.000000  5.698200e+04  56982.000000   \n",
       "mean          5.116292e+05    206.607911  2.212006e+04     24.643624   \n",
       "std           5.556146e+05    245.569839  8.237310e+05     12.556079   \n",
       "min           0.000000e+00      1.000000  1.000000e+00      0.000000   \n",
       "25%           1.739910e+05     15.000000  1.000000e+00     15.000000   \n",
       "50%           1.856020e+05     78.000000  1.000000e+00     30.000000   \n",
       "75%           8.607320e+05    379.000000  1.000000e+00     34.000000   \n",
       "max           1.531200e+07    979.000000  3.780104e+07     50.000000   \n",
       "\n",
       "                ANO           PER  TIPO_PROGRAMA  ASP_LOCALIDAD   ASP_DEP_NAC  \\\n",
       "count  56982.000000  56982.000000   56982.000000   56982.000000  56982.000000   \n",
       "mean    2017.615914      1.959636       3.125057      12.895985     15.524868   \n",
       "std        3.016384      0.996045       3.483856       8.176274     13.272178   \n",
       "min     2013.000000      1.000000       1.000000       1.000000      0.000000   \n",
       "25%     2015.000000      1.000000       1.000000       7.000000     11.000000   \n",
       "50%     2017.000000      1.000000       3.000000      10.000000     11.000000   \n",
       "75%     2020.000000      3.000000       3.000000      19.000000     11.000000   \n",
       "max     2023.000000      3.000000      19.000000      99.000000     99.000000   \n",
       "\n",
       "       ASP_LOCALIDAD_COLEGIO    ANIO_ICFES          EDAD       APRUEBA  \n",
       "count           56982.000000  56982.000000  56982.000000  56982.000000  \n",
       "mean               13.479186   2015.761381     19.325980      0.500720  \n",
       "std                 9.059089      3.248311      2.529245      0.500004  \n",
       "min                 0.000000   1999.000000      9.000000      0.000000  \n",
       "25%                 7.000000   2013.000000     18.000000      0.000000  \n",
       "50%                10.000000   2016.000000     19.000000      1.000000  \n",
       "75%                19.000000   2018.000000     20.000000      1.000000  \n",
       "max                99.000000   2022.000000     65.000000      1.000000  "
      ]
     },
     "execution_count": 23,
     "metadata": {},
     "output_type": "execute_result"
    }
   ],
   "source": [
    "df_historico.describe()"
   ]
  },
  {
   "cell_type": "code",
   "execution_count": 24,
   "id": "f874db66-0e45-4f7c-81f7-02a6845d3a4d",
   "metadata": {},
   "outputs": [
    {
     "data": {
      "text/html": [
       "<div>\n",
       "<style scoped>\n",
       "    .dataframe tbody tr th:only-of-type {\n",
       "        vertical-align: middle;\n",
       "    }\n",
       "\n",
       "    .dataframe tbody tr th {\n",
       "        vertical-align: top;\n",
       "    }\n",
       "\n",
       "    .dataframe thead th {\n",
       "        text-align: right;\n",
       "    }\n",
       "</style>\n",
       "<table border=\"1\" class=\"dataframe\">\n",
       "  <thead>\n",
       "    <tr style=\"text-align: right;\">\n",
       "      <th></th>\n",
       "      <th>EST_COD</th>\n",
       "      <th>ASP_ESTRATO</th>\n",
       "      <th>ASP_LUG_NAC</th>\n",
       "      <th>TIPO_COD</th>\n",
       "      <th>PUNTAJE_ICFES</th>\n",
       "      <th>EST_VALOR_MATRICULA</th>\n",
       "      <th>CRA_COD</th>\n",
       "      <th>ASI_COD</th>\n",
       "      <th>NOTA</th>\n",
       "      <th>ANO</th>\n",
       "      <th>PER</th>\n",
       "      <th>TIPO_PROGRAMA</th>\n",
       "      <th>ASP_LOCALIDAD</th>\n",
       "      <th>ASP_DEP_NAC</th>\n",
       "      <th>ASP_LOCALIDAD_COLEGIO</th>\n",
       "      <th>ANIO_ICFES</th>\n",
       "      <th>EDAD</th>\n",
       "      <th>APRUEBA</th>\n",
       "    </tr>\n",
       "  </thead>\n",
       "  <tbody>\n",
       "    <tr>\n",
       "      <th>count</th>\n",
       "      <td>3.008000e+03</td>\n",
       "      <td>3008.00000</td>\n",
       "      <td>3008.000000</td>\n",
       "      <td>3008.000000</td>\n",
       "      <td>3008.000000</td>\n",
       "      <td>3.008000e+03</td>\n",
       "      <td>3008.000000</td>\n",
       "      <td>3008.000000</td>\n",
       "      <td>3008.000000</td>\n",
       "      <td>3008.0</td>\n",
       "      <td>3008.000000</td>\n",
       "      <td>3008.000000</td>\n",
       "      <td>3008.000000</td>\n",
       "      <td>3008.000000</td>\n",
       "      <td>3008.000000</td>\n",
       "      <td>3008.000000</td>\n",
       "      <td>3008.000000</td>\n",
       "      <td>3008.000000</td>\n",
       "    </tr>\n",
       "    <tr>\n",
       "      <th>mean</th>\n",
       "      <td>2.022957e+10</td>\n",
       "      <td>2.11004</td>\n",
       "      <td>16103.137301</td>\n",
       "      <td>2.861702</td>\n",
       "      <td>309.301468</td>\n",
       "      <td>6.797204e+05</td>\n",
       "      <td>214.994016</td>\n",
       "      <td>859.304521</td>\n",
       "      <td>20.275266</td>\n",
       "      <td>2023.0</td>\n",
       "      <td>2.970412</td>\n",
       "      <td>3.181516</td>\n",
       "      <td>13.189162</td>\n",
       "      <td>15.461769</td>\n",
       "      <td>14.011968</td>\n",
       "      <td>2020.913896</td>\n",
       "      <td>19.646941</td>\n",
       "      <td>0.272606</td>\n",
       "    </tr>\n",
       "    <tr>\n",
       "      <th>std</th>\n",
       "      <td>5.253728e+06</td>\n",
       "      <td>0.67414</td>\n",
       "      <td>14608.900182</td>\n",
       "      <td>6.955617</td>\n",
       "      <td>36.570277</td>\n",
       "      <td>6.408247e+05</td>\n",
       "      <td>254.766347</td>\n",
       "      <td>4536.987108</td>\n",
       "      <td>11.798808</td>\n",
       "      <td>0.0</td>\n",
       "      <td>0.169475</td>\n",
       "      <td>4.004026</td>\n",
       "      <td>7.554290</td>\n",
       "      <td>12.720677</td>\n",
       "      <td>7.815114</td>\n",
       "      <td>2.201120</td>\n",
       "      <td>3.075540</td>\n",
       "      <td>0.445374</td>\n",
       "    </tr>\n",
       "    <tr>\n",
       "      <th>min</th>\n",
       "      <td>2.019138e+10</td>\n",
       "      <td>1.00000</td>\n",
       "      <td>0.000000</td>\n",
       "      <td>1.000000</td>\n",
       "      <td>152.000000</td>\n",
       "      <td>1.160000e+05</td>\n",
       "      <td>1.000000</td>\n",
       "      <td>1.000000</td>\n",
       "      <td>0.000000</td>\n",
       "      <td>2023.0</td>\n",
       "      <td>2.000000</td>\n",
       "      <td>1.000000</td>\n",
       "      <td>1.000000</td>\n",
       "      <td>0.000000</td>\n",
       "      <td>1.000000</td>\n",
       "      <td>1999.000000</td>\n",
       "      <td>15.000000</td>\n",
       "      <td>0.000000</td>\n",
       "    </tr>\n",
       "    <tr>\n",
       "      <th>25%</th>\n",
       "      <td>2.023102e+10</td>\n",
       "      <td>2.00000</td>\n",
       "      <td>11001.000000</td>\n",
       "      <td>1.000000</td>\n",
       "      <td>288.000000</td>\n",
       "      <td>1.856000e+05</td>\n",
       "      <td>15.000000</td>\n",
       "      <td>1.000000</td>\n",
       "      <td>11.000000</td>\n",
       "      <td>2023.0</td>\n",
       "      <td>3.000000</td>\n",
       "      <td>1.000000</td>\n",
       "      <td>7.000000</td>\n",
       "      <td>11.000000</td>\n",
       "      <td>7.000000</td>\n",
       "      <td>2020.000000</td>\n",
       "      <td>18.000000</td>\n",
       "      <td>0.000000</td>\n",
       "    </tr>\n",
       "    <tr>\n",
       "      <th>50%</th>\n",
       "      <td>2.023200e+10</td>\n",
       "      <td>2.00000</td>\n",
       "      <td>11001.000000</td>\n",
       "      <td>1.000000</td>\n",
       "      <td>313.000000</td>\n",
       "      <td>4.674000e+05</td>\n",
       "      <td>32.000000</td>\n",
       "      <td>1.000000</td>\n",
       "      <td>22.000000</td>\n",
       "      <td>2023.0</td>\n",
       "      <td>3.000000</td>\n",
       "      <td>1.000000</td>\n",
       "      <td>10.000000</td>\n",
       "      <td>11.000000</td>\n",
       "      <td>11.000000</td>\n",
       "      <td>2022.000000</td>\n",
       "      <td>19.000000</td>\n",
       "      <td>0.000000</td>\n",
       "    </tr>\n",
       "    <tr>\n",
       "      <th>75%</th>\n",
       "      <td>2.023203e+10</td>\n",
       "      <td>3.00000</td>\n",
       "      <td>11850.000000</td>\n",
       "      <td>1.000000</td>\n",
       "      <td>334.000000</td>\n",
       "      <td>1.015250e+06</td>\n",
       "      <td>572.000000</td>\n",
       "      <td>1.000000</td>\n",
       "      <td>30.000000</td>\n",
       "      <td>2023.0</td>\n",
       "      <td>3.000000</td>\n",
       "      <td>3.000000</td>\n",
       "      <td>19.000000</td>\n",
       "      <td>11.000000</td>\n",
       "      <td>25.000000</td>\n",
       "      <td>2022.000000</td>\n",
       "      <td>21.000000</td>\n",
       "      <td>1.000000</td>\n",
       "    </tr>\n",
       "    <tr>\n",
       "      <th>max</th>\n",
       "      <td>2.023278e+10</td>\n",
       "      <td>5.00000</td>\n",
       "      <td>99999.000000</td>\n",
       "      <td>32.000000</td>\n",
       "      <td>477.000000</td>\n",
       "      <td>5.357072e+06</td>\n",
       "      <td>979.000000</td>\n",
       "      <td>25207.000000</td>\n",
       "      <td>49.000000</td>\n",
       "      <td>2023.0</td>\n",
       "      <td>3.000000</td>\n",
       "      <td>19.000000</td>\n",
       "      <td>26.000000</td>\n",
       "      <td>95.000000</td>\n",
       "      <td>26.000000</td>\n",
       "      <td>2023.000000</td>\n",
       "      <td>46.000000</td>\n",
       "      <td>1.000000</td>\n",
       "    </tr>\n",
       "  </tbody>\n",
       "</table>\n",
       "</div>"
      ],
      "text/plain": [
       "            EST_COD  ASP_ESTRATO   ASP_LUG_NAC     TIPO_COD  PUNTAJE_ICFES  \\\n",
       "count  3.008000e+03   3008.00000   3008.000000  3008.000000    3008.000000   \n",
       "mean   2.022957e+10      2.11004  16103.137301     2.861702     309.301468   \n",
       "std    5.253728e+06      0.67414  14608.900182     6.955617      36.570277   \n",
       "min    2.019138e+10      1.00000      0.000000     1.000000     152.000000   \n",
       "25%    2.023102e+10      2.00000  11001.000000     1.000000     288.000000   \n",
       "50%    2.023200e+10      2.00000  11001.000000     1.000000     313.000000   \n",
       "75%    2.023203e+10      3.00000  11850.000000     1.000000     334.000000   \n",
       "max    2.023278e+10      5.00000  99999.000000    32.000000     477.000000   \n",
       "\n",
       "       EST_VALOR_MATRICULA      CRA_COD       ASI_COD         NOTA     ANO  \\\n",
       "count         3.008000e+03  3008.000000   3008.000000  3008.000000  3008.0   \n",
       "mean          6.797204e+05   214.994016    859.304521    20.275266  2023.0   \n",
       "std           6.408247e+05   254.766347   4536.987108    11.798808     0.0   \n",
       "min           1.160000e+05     1.000000      1.000000     0.000000  2023.0   \n",
       "25%           1.856000e+05    15.000000      1.000000    11.000000  2023.0   \n",
       "50%           4.674000e+05    32.000000      1.000000    22.000000  2023.0   \n",
       "75%           1.015250e+06   572.000000      1.000000    30.000000  2023.0   \n",
       "max           5.357072e+06   979.000000  25207.000000    49.000000  2023.0   \n",
       "\n",
       "               PER  TIPO_PROGRAMA  ASP_LOCALIDAD  ASP_DEP_NAC  \\\n",
       "count  3008.000000    3008.000000    3008.000000  3008.000000   \n",
       "mean      2.970412       3.181516      13.189162    15.461769   \n",
       "std       0.169475       4.004026       7.554290    12.720677   \n",
       "min       2.000000       1.000000       1.000000     0.000000   \n",
       "25%       3.000000       1.000000       7.000000    11.000000   \n",
       "50%       3.000000       1.000000      10.000000    11.000000   \n",
       "75%       3.000000       3.000000      19.000000    11.000000   \n",
       "max       3.000000      19.000000      26.000000    95.000000   \n",
       "\n",
       "       ASP_LOCALIDAD_COLEGIO   ANIO_ICFES         EDAD      APRUEBA  \n",
       "count            3008.000000  3008.000000  3008.000000  3008.000000  \n",
       "mean               14.011968  2020.913896    19.646941     0.272606  \n",
       "std                 7.815114     2.201120     3.075540     0.445374  \n",
       "min                 1.000000  1999.000000    15.000000     0.000000  \n",
       "25%                 7.000000  2020.000000    18.000000     0.000000  \n",
       "50%                11.000000  2022.000000    19.000000     0.000000  \n",
       "75%                25.000000  2022.000000    21.000000     1.000000  \n",
       "max                26.000000  2023.000000    46.000000     1.000000  "
      ]
     },
     "execution_count": 24,
     "metadata": {},
     "output_type": "execute_result"
    }
   ],
   "source": [
    "df_actual.describe()"
   ]
  },
  {
   "cell_type": "code",
   "execution_count": 25,
   "id": "f803fe11-cfb1-4bbb-97f3-f913f3e0d7e7",
   "metadata": {},
   "outputs": [
    {
     "name": "stdout",
     "output_type": "stream",
     "text": [
      "<class 'pandas.core.frame.DataFrame'>\n",
      "RangeIndex: 56982 entries, 0 to 56981\n",
      "Data columns (total 26 columns):\n",
      " #   Column                 Non-Null Count  Dtype         \n",
      "---  ------                 --------------  -----         \n",
      " 0   EST_COD                56982 non-null  int64         \n",
      " 1   ASP_SEXO               56982 non-null  object        \n",
      " 2   ASP_ESTRATO            56982 non-null  float64       \n",
      " 3   ASP_FECHA_NAC          56982 non-null  datetime64[ns]\n",
      " 4   ASP_LUG_NAC            56982 non-null  float64       \n",
      " 5   TIPO_COD               56982 non-null  int64         \n",
      " 6   TIPOI                  56982 non-null  object        \n",
      " 7   PUNTAJE_ICFES          56982 non-null  float64       \n",
      " 8   EST_VALOR_MATRICULA    56982 non-null  float64       \n",
      " 9   CRA_COD                56982 non-null  int64         \n",
      " 10  CARRERA                56982 non-null  object        \n",
      " 11  ASI_COD                56982 non-null  int64         \n",
      " 12  NOTA                   56982 non-null  int64         \n",
      " 13  ANO                    56982 non-null  int64         \n",
      " 14  PER                    56982 non-null  int64         \n",
      " 15  FACULTAD               56982 non-null  object        \n",
      " 16  TIPO_PROGRAMA          56982 non-null  int64         \n",
      " 17  ASP_LOCALIDAD          56982 non-null  float64       \n",
      " 18  ASP_DEP_NAC            56982 non-null  float64       \n",
      " 19  ASP_SNP                56982 non-null  object        \n",
      " 20  ASP_TIPO_COLEGIO       56982 non-null  object        \n",
      " 21  ASP_LOCALIDAD_COLEGIO  56982 non-null  float64       \n",
      " 22  ASP_TRABAJA            56982 non-null  object        \n",
      " 23  ANIO_ICFES             56982 non-null  int64         \n",
      " 24  EDAD                   56982 non-null  int64         \n",
      " 25  APRUEBA                56982 non-null  int64         \n",
      "dtypes: datetime64[ns](1), float64(7), int64(11), object(7)\n",
      "memory usage: 11.3+ MB\n"
     ]
    }
   ],
   "source": [
    "df_historico.info()"
   ]
  },
  {
   "cell_type": "code",
   "execution_count": 26,
   "id": "8552ca56-559c-4b2e-af22-35b9db45fe82",
   "metadata": {},
   "outputs": [
    {
     "data": {
      "text/plain": [
       "EST_COD                  37836\n",
       "ASP_SEXO                     2\n",
       "ASP_ESTRATO                  6\n",
       "ASP_FECHA_NAC             6121\n",
       "ASP_LUG_NAC                670\n",
       "TIPO_COD                    12\n",
       "TIPOI                       12\n",
       "PUNTAJE_ICFES             1521\n",
       "EST_VALOR_MATRICULA       5065\n",
       "CRA_COD                     68\n",
       "CARRERA                     24\n",
       "ASI_COD                     16\n",
       "NOTA                        51\n",
       "ANO                         11\n",
       "PER                          3\n",
       "FACULTAD                     5\n",
       "TIPO_PROGRAMA                5\n",
       "ASP_LOCALIDAD               23\n",
       "ASP_DEP_NAC                 35\n",
       "ASP_SNP                  36610\n",
       "ASP_TIPO_COLEGIO             2\n",
       "ASP_LOCALIDAD_COLEGIO       24\n",
       "ASP_TRABAJA                  2\n",
       "ANIO_ICFES                  24\n",
       "EDAD                        43\n",
       "APRUEBA                      2\n",
       "dtype: int64"
      ]
     },
     "execution_count": 26,
     "metadata": {},
     "output_type": "execute_result"
    }
   ],
   "source": [
    " df_historico.nunique()"
   ]
  },
  {
   "cell_type": "code",
   "execution_count": 27,
   "id": "43a8313b-e20b-4d14-9af8-53aab30436e0",
   "metadata": {},
   "outputs": [
    {
     "name": "stdout",
     "output_type": "stream",
     "text": [
      "<class 'pandas.core.frame.DataFrame'>\n",
      "RangeIndex: 3008 entries, 0 to 3007\n",
      "Data columns (total 26 columns):\n",
      " #   Column                 Non-Null Count  Dtype         \n",
      "---  ------                 --------------  -----         \n",
      " 0   EST_COD                3008 non-null   int64         \n",
      " 1   ASP_SEXO               3008 non-null   object        \n",
      " 2   ASP_ESTRATO            3008 non-null   float64       \n",
      " 3   ASP_FECHA_NAC          3008 non-null   datetime64[ns]\n",
      " 4   ASP_LUG_NAC            3008 non-null   float64       \n",
      " 5   TIPO_COD               3008 non-null   int64         \n",
      " 6   TIPOI                  3008 non-null   object        \n",
      " 7   PUNTAJE_ICFES          3008 non-null   float64       \n",
      " 8   EST_VALOR_MATRICULA    3008 non-null   float64       \n",
      " 9   CRA_COD                3008 non-null   int64         \n",
      " 10  CARRERA                3008 non-null   object        \n",
      " 11  ASI_COD                3008 non-null   int64         \n",
      " 12  NOTA                   3008 non-null   int64         \n",
      " 13  ANO                    3008 non-null   int64         \n",
      " 14  PER                    3008 non-null   int64         \n",
      " 15  FACULTAD               3008 non-null   object        \n",
      " 16  TIPO_PROGRAMA          3008 non-null   int64         \n",
      " 17  ASP_LOCALIDAD          3008 non-null   float64       \n",
      " 18  ASP_DEP_NAC            3008 non-null   float64       \n",
      " 19  ASP_SNP                3008 non-null   object        \n",
      " 20  ASP_TIPO_COLEGIO       3008 non-null   object        \n",
      " 21  ASP_LOCALIDAD_COLEGIO  3008 non-null   float64       \n",
      " 22  ASP_TRABAJA            3008 non-null   object        \n",
      " 23  ANIO_ICFES             3008 non-null   int64         \n",
      " 24  EDAD                   3008 non-null   int64         \n",
      " 25  APRUEBA                3008 non-null   int64         \n",
      "dtypes: datetime64[ns](1), float64(7), int64(11), object(7)\n",
      "memory usage: 611.1+ KB\n"
     ]
    }
   ],
   "source": [
    "df_actual.info()"
   ]
  },
  {
   "cell_type": "code",
   "execution_count": 28,
   "id": "d5e86007-c920-4ba7-b300-541f31ac1082",
   "metadata": {},
   "outputs": [
    {
     "data": {
      "image/png": "[encoded data removed]",
      "text/plain": [
       "<Figure size 720x432 with 1 Axes>"
      ]
     },
     "metadata": {
      "needs_background": "light"
     },
     "output_type": "display_data"
    }
   ],
   "source": [
    "plt.figure(figsize=(10, 6))\n",
    "sns.histplot(data=df_historico, x='NOTA', bins=20, kde=True)\n",
    "plt.title('Distribucion de calificaciones historico')\n",
    "plt.xlabel('Nota total')\n",
    "plt.ylabel('Frecuencia')\n",
    "plt.show()"
   ]
  },
  {
   "cell_type": "code",
   "execution_count": 29,
   "id": "8fea77f6-531f-432e-a3b7-2491f97431ae",
   "metadata": {},
   "outputs": [
    {
     "data": {
      "text/plain": [
       "INGENIERIA DE SISTEMAS                                           4431\n",
       "TECNOLOGIA EN SISTEMATIZACION DE DATOS (CICLOS PROPEDEUTICOS)    4390\n",
       "INGENIERIA INDUSTRIAL                                            4269\n",
       "INGENIERIA CATASTRAL Y GEODESIA                                  4218\n",
       "INGENIERIA ELECTRONICA                                           4050\n",
       "TECNOLOGIA EN ELECTRONICA (CICLOS PROPEDEUTICOS)                 4010\n",
       "TECNOLOGIA EN GESTION DE LA PRODUCCION INDUSTRIAL                3701\n",
       "TECNOLOGIA EN MECANICA (CICLOS PROPEDEUTICOS)                    3656\n",
       "INGENIERIA ELECTRICA                                             3123\n",
       "INGENIERIA AMBIENTAL                                             2188\n",
       "ADMINISTRACION AMBIENTAL                                         1884\n",
       "INGENIERIA TOPOGRAFICA                                           1860\n",
       "TECNOLOGÍA EN ELECTRICIDAD DE MEDIA Y BAJA TENSIÓN               1831\n",
       "TECNOLOGIA EN CONSTRUCCIONES CIVILES (CICLOS PROPEDEUTICOS)      1801\n",
       "TECNOLOGÍA EN GESTIÓN AMBIENTAL Y SERVICIOS PÚBLICOS             1797\n",
       "ADMINISTRACION DEPORTIVA                                         1760\n",
       "INGENIERIA FORESTAL                                              1716\n",
       "TECNOLOGÍA EN SANEAMIENTO AMBIENTAL                              1499\n",
       "TECNOLOGIA EN LEVANTAMIENTOS TOPOGRAFICOS                        1379\n",
       "LICENCIATURA EN FISICA                                           1264\n",
       "MATEMATICAS                                                       694\n",
       "LICENCIATURA EN QUIMICA                                           647\n",
       "INGENIERIA SANITARIA                                              602\n",
       "QUÍMICA                                                           212\n",
       "Name: CARRERA, dtype: int64"
      ]
     },
     "execution_count": 29,
     "metadata": {},
     "output_type": "execute_result"
    }
   ],
   "source": [
    "df_historico.CARRERA.value_counts()"
   ]
  },
  {
   "cell_type": "code",
   "execution_count": null,
   "id": "0fffbe3f-bb1b-4589-9adf-8a5eabd2aebe",
   "metadata": {},
   "outputs": [],
   "source": []
  },
  {
   "cell_type": "code",
   "execution_count": 30,
   "id": "a8cdebc6-759c-4a58-b54e-28da1943ae3b",
   "metadata": {},
   "outputs": [],
   "source": [
    "#df_historico[\"CARRERA\"] = np.random.choice([388, 403, 158, 136, 223, 142, 447, 218, 368, 386, 253, 415, 149, 369, 152, 148, 107, 441, 274, 444, 464, 340, 262, 301, 292], size=len(df_historico))\n",
    "#df_historico[\"FACULTAD\"] = np.random.choice([50, 70, 30, 90, 80], size=len(df_historico))"
   ]
  },
  {
   "cell_type": "markdown",
   "id": "acfc9fc7-4d55-4798-b044-c19679578c47",
   "metadata": {},
   "source": [
    "### Se codifican caracteristicas"
   ]
  },
  {
   "cell_type": "code",
   "execution_count": 31,
   "id": "5b7d002c-05de-44b4-a570-073e293a5874",
   "metadata": {},
   "outputs": [],
   "source": [
    "# codificador de categorias\n",
    "label_encoder = preprocessing.LabelEncoder() \n",
    "le = LabelEncoder()\n",
    "\n",
    "df_historico[\"ASP_SEXO\"] = le.fit_transform(df_historico[\"ASP_SEXO\"])\n",
    "df_historico[\"ASP_TIPO_COLEGIO\"] = le.fit_transform(df_historico[\"ASP_TIPO_COLEGIO\"])\n",
    "df_historico[\"ASP_TRABAJA\"] = le.fit_transform(df_historico[\"ASP_TRABAJA\"])\n",
    "df_historico[\"CARRERA\"] = le.fit_transform(df_historico[\"CARRERA\"])\n",
    "df_historico[\"FACULTAD\"] = le.fit_transform(df_historico[\"FACULTAD\"])\n",
    "\n",
    "df_actual[\"ASP_SEXO\"] = le.fit_transform(df_actual[\"ASP_SEXO\"])\n",
    "df_actual[\"ASP_TIPO_COLEGIO\"] = le.fit_transform(df_actual[\"ASP_TIPO_COLEGIO\"])\n",
    "df_actual[\"ASP_TRABAJA\"] = le.fit_transform(df_actual[\"ASP_TRABAJA\"])\n",
    "df_actual[\"CARRERA\"] = le.fit_transform(df_actual[\"CARRERA\"])\n",
    "df_historico[\"FACULTAD\"] = le.fit_transform(df_historico[\"FACULTAD\"])"
   ]
  },
  {
   "cell_type": "code",
   "execution_count": 32,
   "id": "f16601ca-be16-4e01-9722-d5c4aaf2c624",
   "metadata": {},
   "outputs": [
    {
     "name": "stdout",
     "output_type": "stream",
     "text": [
      "<class 'pandas.core.frame.DataFrame'>\n",
      "RangeIndex: 56982 entries, 0 to 56981\n",
      "Data columns (total 26 columns):\n",
      " #   Column                 Non-Null Count  Dtype         \n",
      "---  ------                 --------------  -----         \n",
      " 0   EST_COD                56982 non-null  int64         \n",
      " 1   ASP_SEXO               56982 non-null  int64         \n",
      " 2   ASP_ESTRATO            56982 non-null  float64       \n",
      " 3   ASP_FECHA_NAC          56982 non-null  datetime64[ns]\n",
      " 4   ASP_LUG_NAC            56982 non-null  float64       \n",
      " 5   TIPO_COD               56982 non-null  int64         \n",
      " 6   TIPOI                  56982 non-null  object        \n",
      " 7   PUNTAJE_ICFES          56982 non-null  float64       \n",
      " 8   EST_VALOR_MATRICULA    56982 non-null  float64       \n",
      " 9   CRA_COD                56982 non-null  int64         \n",
      " 10  CARRERA                56982 non-null  int64         \n",
      " 11  ASI_COD                56982 non-null  int64         \n",
      " 12  NOTA                   56982 non-null  int64         \n",
      " 13  ANO                    56982 non-null  int64         \n",
      " 14  PER                    56982 non-null  int64         \n",
      " 15  FACULTAD               56982 non-null  int64         \n",
      " 16  TIPO_PROGRAMA          56982 non-null  int64         \n",
      " 17  ASP_LOCALIDAD          56982 non-null  float64       \n",
      " 18  ASP_DEP_NAC            56982 non-null  float64       \n",
      " 19  ASP_SNP                56982 non-null  object        \n",
      " 20  ASP_TIPO_COLEGIO       56982 non-null  int64         \n",
      " 21  ASP_LOCALIDAD_COLEGIO  56982 non-null  float64       \n",
      " 22  ASP_TRABAJA            56982 non-null  int64         \n",
      " 23  ANIO_ICFES             56982 non-null  int64         \n",
      " 24  EDAD                   56982 non-null  int64         \n",
      " 25  APRUEBA                56982 non-null  int64         \n",
      "dtypes: datetime64[ns](1), float64(7), int64(16), object(2)\n",
      "memory usage: 11.3+ MB\n"
     ]
    }
   ],
   "source": [
    "df_historico.info()"
   ]
  },
  {
   "cell_type": "code",
   "execution_count": 33,
   "id": "46a9ab35-e552-48ce-b987-0c17a1096538",
   "metadata": {},
   "outputs": [
    {
     "data": {
      "image/png": "[encoded data removed]",
      "text/plain": [
       "<Figure size 2160x1080 with 1 Axes>"
      ]
     },
     "metadata": {
      "needs_background": "light"
     },
     "output_type": "display_data"
    }
   ],
   "source": [
    "plt.figure(figsize=(30, 15))\n",
    "sns.boxplot(data=df_historico, x='CARRERA', y='NOTA')\n",
    "plt.xticks(rotation=45)\n",
    "plt.title('Box Plot de notas vs programa academico historico')\n",
    "plt.xlabel('Codigo carrera')\n",
    "plt.ylabel('Nota')\n",
    "plt.show()"
   ]
  },
  {
   "cell_type": "code",
   "execution_count": 34,
   "id": "98612aba-0d4a-4e66-85d0-2a3cb1cf11ee",
   "metadata": {},
   "outputs": [
    {
     "data": {
      "image/png": "[encoded data removed]",
      "text/plain": [
       "<Figure size 2160x1080 with 1 Axes>"
      ]
     },
     "metadata": {
      "needs_background": "light"
     },
     "output_type": "display_data"
    }
   ],
   "source": [
    "plt.figure(figsize=(30, 15))\n",
    "sns.boxplot(data=df_historico, x='FACULTAD', y='NOTA')\n",
    "plt.xticks(rotation=45)\n",
    "plt.title('Box Plot de notas vs Facultad')\n",
    "plt.xlabel('Facultad')\n",
    "plt.ylabel('Nota')\n",
    "plt.show()"
   ]
  },
  {
   "cell_type": "code",
   "execution_count": 35,
   "id": "208f48d6-13d2-40f3-8c8d-82839d13f756",
   "metadata": {},
   "outputs": [],
   "source": [
    "df_historico['fecha_registro'] = pd.to_datetime(df_historico['ANO'].astype(str) + '-' + (df_historico['PER'] * 3).astype(str) + '-01')\n",
    "#df_historico[\"ANO\"] = le.fit_transform(df_historico[\"ANO\"])\n",
    "#df_actual[\"ANO\"] = le.fit_transform(df_actual[\"ANO\"]) "
   ]
  },
  {
   "cell_type": "code",
   "execution_count": 36,
   "id": "f94b2ce5-2c19-41aa-8b35-82c522c15425",
   "metadata": {},
   "outputs": [
    {
     "data": {
      "image/png": "[encoded data removed]",
      "text/plain": [
       "<Figure size 864x432 with 1 Axes>"
      ]
     },
     "metadata": {
      "needs_background": "light"
     },
     "output_type": "display_data"
    }
   ],
   "source": [
    "plt.figure(figsize=(12, 6))\n",
    "sns.lineplot(data=df_historico, x='fecha_registro', y='NOTA')\n",
    "plt.title('Variacion de calificaciones a lo largo del tiempo')\n",
    "plt.xlabel('año')\n",
    "plt.ylabel('Nota final')\n",
    "plt.xticks(rotation=45)\n",
    "plt.tight_layout()\n",
    "plt.show()"
   ]
  },
  {
   "cell_type": "code",
   "execution_count": 37,
   "id": "5472f61a-5e4e-4350-bf5b-c13845a7cf01",
   "metadata": {},
   "outputs": [
    {
     "data": {
      "text/plain": [
       "<AxesSubplot:xlabel='ASP_TIPO_COLEGIO', ylabel='count'>"
      ]
     },
     "execution_count": 37,
     "metadata": {},
     "output_type": "execute_result"
    },
    {
     "data": {
      "image/png": "[encoded data removed]",
      "text/plain": [
       "<Figure size 1800x1080 with 9 Axes>"
      ]
     },
     "metadata": {
      "needs_background": "light"
     },
     "output_type": "display_data"
    }
   ],
   "source": [
    "fig,axis = plt.subplots(nrows=3 ,ncols=3,figsize=(25,15))\n",
    "\n",
    "sns.countplot(df_historico[\"ASP_SEXO\"],ax=axis[0,0])\n",
    "sns.countplot(df_historico[\"ASP_ESTRATO\"],ax=axis[0,1])\n",
    "sns.countplot(df_historico[\"ASP_DEP_NAC\"],ax=axis[0,2])\n",
    "\n",
    "sns.countplot(df_historico[\"TIPO_COD\"],ax=axis[1,1])\n",
    "sns.countplot(df_historico[\"CARRERA\"],ax=axis[1,0])\n",
    "sns.countplot(df_historico[\"ANO\"],ax=axis[1,2])\n",
    "\n",
    "sns.countplot(df_historico[\"FACULTAD\"],ax=axis[2,1])\n",
    "sns.countplot(df_historico[\"TIPO_PROGRAMA\"],ax=axis[2,0])\n",
    "sns.countplot(df_historico[\"ASP_TIPO_COLEGIO\"],ax=axis[2,2])"
   ]
  },
  {
   "cell_type": "code",
   "execution_count": 38,
   "id": "733806cc-5112-40f4-8c58-55919170077d",
   "metadata": {},
   "outputs": [
    {
     "data": {
      "image/png": "[encoded data removed]",
      "text/plain": [
       "<Figure size 1000x500 with 1 Axes>"
      ]
     },
     "metadata": {
      "needs_background": "light"
     },
     "output_type": "display_data"
    }
   ],
   "source": [
    "fig = plt.figure(figsize=(10, 5), dpi=100)\n",
    "\n",
    "sns.countplot(df_historico[\"ASP_SEXO\"])\n",
    "plt.show()"
   ]
  },
  {
   "cell_type": "code",
   "execution_count": 39,
   "id": "3e85d7ec-ad34-4336-81a1-f82fd6b2f54f",
   "metadata": {},
   "outputs": [
    {
     "data": {
      "image/png": "[encoded data removed]",
      "text/plain": [
       "<Figure size 1000x500 with 1 Axes>"
      ]
     },
     "metadata": {
      "needs_background": "light"
     },
     "output_type": "display_data"
    }
   ],
   "source": [
    "fig = plt.figure(figsize=(10, 5), dpi=100)\n",
    "sns.countplot(df_historico[\"ASP_ESTRATO\"])\n",
    "plt.show()"
   ]
  },
  {
   "cell_type": "code",
   "execution_count": 40,
   "id": "90a5426e-7a88-4116-acb6-69ef36268e32",
   "metadata": {},
   "outputs": [
    {
     "data": {
      "image/png": "[encoded data removed]",
      "text/plain": [
       "<Figure size 2000x1000 with 1 Axes>"
      ]
     },
     "metadata": {
      "needs_background": "light"
     },
     "output_type": "display_data"
    }
   ],
   "source": [
    "fig = plt.figure(figsize=(20, 10), dpi=100)\n",
    "sns.countplot(df_historico[\"ASP_DEP_NAC\"])\n",
    "plt.show()"
   ]
  },
  {
   "cell_type": "code",
   "execution_count": 41,
   "id": "d12cb702-2ad3-4c09-90c0-a04d1a3892dc",
   "metadata": {},
   "outputs": [
    {
     "data": {
      "image/png": "[encoded data removed]",
      "text/plain": [
       "<Figure size 1000x500 with 1 Axes>"
      ]
     },
     "metadata": {
      "needs_background": "light"
     },
     "output_type": "display_data"
    }
   ],
   "source": [
    "fig = plt.figure(figsize=(10, 5), dpi=100)\n",
    "sns.countplot(df_historico[\"TIPO_COD\"])\n",
    "plt.show()"
   ]
  },
  {
   "cell_type": "code",
   "execution_count": 42,
   "id": "a17228ee-3bf1-400a-a748-a523e0ed6748",
   "metadata": {},
   "outputs": [
    {
     "data": {
      "image/png": "[encoded data removed]",
      "text/plain": [
       "<Figure size 1000x500 with 1 Axes>"
      ]
     },
     "metadata": {
      "needs_background": "light"
     },
     "output_type": "display_data"
    }
   ],
   "source": [
    "fig = plt.figure(figsize=(10, 5), dpi=100)\n",
    "sns.countplot(df_historico[\"CARRERA\"])\n",
    "plt.show()"
   ]
  },
  {
   "cell_type": "code",
   "execution_count": 43,
   "id": "6b6192ce-1c78-4ad0-a333-4a99ee8bc054",
   "metadata": {},
   "outputs": [
    {
     "data": {
      "image/png": "[encoded data removed]",
      "text/plain": [
       "<Figure size 1000x500 with 1 Axes>"
      ]
     },
     "metadata": {
      "needs_background": "light"
     },
     "output_type": "display_data"
    }
   ],
   "source": [
    "fig = plt.figure(figsize=(10, 5), dpi=100)\n",
    "sns.countplot(df_historico[\"ANO\"])\n",
    "plt.show()"
   ]
  },
  {
   "cell_type": "code",
   "execution_count": 44,
   "id": "61ed57ab-c1db-4a36-b609-815e350b02ad",
   "metadata": {},
   "outputs": [
    {
     "data": {
      "image/png": "[encoded data removed]",
      "text/plain": [
       "<Figure size 2000x1000 with 1 Axes>"
      ]
     },
     "metadata": {
      "needs_background": "light"
     },
     "output_type": "display_data"
    }
   ],
   "source": [
    "fig = plt.figure(figsize=(20, 10), dpi=100)\n",
    "sns.countplot(df_historico[\"FACULTAD\"])\n",
    "plt.show()"
   ]
  },
  {
   "cell_type": "code",
   "execution_count": 45,
   "id": "b568ea98-66e0-49ea-beeb-3b85dcf2df0a",
   "metadata": {},
   "outputs": [
    {
     "data": {
      "image/png": "[encoded data removed]",
      "text/plain": [
       "<Figure size 1000x500 with 1 Axes>"
      ]
     },
     "metadata": {
      "needs_background": "light"
     },
     "output_type": "display_data"
    }
   ],
   "source": [
    "fig = plt.figure(figsize=(10, 5), dpi=100)\n",
    "sns.countplot(df_historico[\"TIPO_PROGRAMA\"])\n",
    "plt.show()"
   ]
  },
  {
   "cell_type": "code",
   "execution_count": 46,
   "id": "c7d41682-a8f7-4424-9f66-267e238556a1",
   "metadata": {},
   "outputs": [
    {
     "data": {
      "image/png": "[encoded data removed]",
      "text/plain": [
       "<Figure size 1000x500 with 1 Axes>"
      ]
     },
     "metadata": {
      "needs_background": "light"
     },
     "output_type": "display_data"
    }
   ],
   "source": [
    "fig = plt.figure(figsize=(10, 5), dpi=100)\n",
    "sns.countplot(df_historico[\"ASP_TIPO_COLEGIO\"])\n",
    "plt.show()"
   ]
  },
  {
   "cell_type": "code",
   "execution_count": 47,
   "id": "c7cc3464-fa4e-407d-b730-efccbc593505",
   "metadata": {},
   "outputs": [],
   "source": [
    "df_historico['ASP_ESTRATO'] = df_historico['ASP_ESTRATO'].astype(int)\n",
    "df_historico['ASP_LUG_NAC'] = df_historico['ASP_LUG_NAC'].astype(int)\n",
    "df_historico['ASP_LOCALIDAD'] = df_historico['ASP_LOCALIDAD'].astype(int)\n",
    "df_historico['ASP_DEP_NAC'] = df_historico['ASP_DEP_NAC'].astype(int)\n",
    "df_historico['PUNTAJE_ICFES'] = df_historico['PUNTAJE_ICFES'].astype(int)\n",
    "df_historico['EST_VALOR_MATRICULA'] = df_historico['EST_VALOR_MATRICULA'].astype(int)\n",
    "df_historico['ASP_LOCALIDAD_COLEGIO'] = df_historico['ASP_LOCALIDAD_COLEGIO'].astype(int)\n",
    "#df_historico['F_FACULTAD DE CIENCIAS MATEMATICAS Y NATURALES'] = df_historico['F_FACULTAD DE CIENCIAS MATEMATICAS Y NATURALES'].astype(int)\n",
    "#df_historico['F_FACULTAD DE CIENCIAS Y EDUCACION'] = df_historico['F_FACULTAD DE CIENCIAS Y EDUCACION'].astype(int)\n",
    "#df_historico['F_FACULTAD DE INGENIERIA'] = df_historico['F_FACULTAD DE INGENIERIA'].astype(int)\n",
    "#df_historico['F_FACULTAD DE TECNOLOGIA - POLITECNICA / TECNOLOGICA'] = df_historico['F_FACULTAD DE TECNOLOGIA - POLITECNICA / TECNOLOGICA'].astype(int)\n",
    "#df_historico['F_FACULTAD DEL MEDIO AMBIENTE Y RECURSOS NATURALES'] = df_historico['F_FACULTAD DEL MEDIO AMBIENTE Y RECURSOS NATURALES'].astype(int)\n",
    "\n",
    "df_actual['ASP_ESTRATO'] = df_actual['ASP_ESTRATO'].astype(int)\n",
    "df_actual['ASP_LUG_NAC'] = df_actual['ASP_LUG_NAC'].astype(int)\n",
    "df_actual['ASP_LOCALIDAD'] = df_actual['ASP_LOCALIDAD'].astype(int)\n",
    "df_actual['ASP_DEP_NAC'] = df_actual['ASP_DEP_NAC'].astype(int)\n",
    "df_actual['PUNTAJE_ICFES'] = df_actual['PUNTAJE_ICFES'].astype(int)\n",
    "df_actual['EST_VALOR_MATRICULA'] = df_actual['EST_VALOR_MATRICULA'].astype(int)\n",
    "df_actual['ASP_LOCALIDAD_COLEGIO'] = df_actual['ASP_LOCALIDAD_COLEGIO'].astype(int)\n",
    "#df_actual['F_FACULTAD DE CIENCIAS MATEMATICAS Y NATURALES'] = df_actual['F_FACULTAD DE CIENCIAS MATEMATICAS Y NATURALES'].astype(int)\n",
    "#df_actual['F_FACULTAD DE CIENCIAS Y EDUCACION'] = df_actual['F_FACULTAD DE CIENCIAS Y EDUCACION'].astype(int)\n",
    "#df_actual['F_FACULTAD DE INGENIERIA'] = df_actual['F_FACULTAD DE INGENIERIA'].astype(int)\n",
    "#df_actual['F_FACULTAD DE TECNOLOGIA - POLITECNICA / TECNOLOGICA'] = df_actual['F_FACULTAD DE TECNOLOGIA - POLITECNICA / TECNOLOGICA'].astype(int)\n",
    "#df_actual['F_FACULTAD DEL MEDIO AMBIENTE Y RECURSOS NATURALES'] = df_actual['F_FACULTAD DEL MEDIO AMBIENTE Y RECURSOS NATURALES'].astype(int)"
   ]
  },
  {
   "cell_type": "code",
   "execution_count": null,
   "id": "c5a88054-6268-4a12-9473-55fd33d5cd29",
   "metadata": {},
   "outputs": [],
   "source": []
  },
  {
   "cell_type": "markdown",
   "id": "57ee8c9d-3dd9-4aa6-b2ab-4fedfe0726e7",
   "metadata": {},
   "source": [
    "### hot encoding"
   ]
  },
  {
   "cell_type": "code",
   "execution_count": null,
   "id": "86174ad6-7489-4d3d-8226-156626321115",
   "metadata": {},
   "outputs": [],
   "source": [
    "#df_historico[\"FACULTAD\"] = pd.get_dummies(diff, prefix=['FACULTAD'])\n",
    "#df_actual[\"FACULTAD\"] = pd.get_dummies(diff, prefix=['FACULTAD'])\n",
    "\n",
    "df_historico = pd.get_dummies(df_historico, columns=['FACULTAD'])\n",
    "df_historico = pd.get_dummies(df_historico, columns=['TIPOI'])\n",
    "df_historico = pd.get_dummies(df_historico, columns=['CARRERA'])\n",
    "df_historico = pd.get_dummies(df_historico, columns=['TIPO_PROGRAMA'])\n",
    "df_historico = pd.get_dummies(df_historico, columns=['ASP_LOCALIDAD'])\n",
    "\n",
    "df_actual = pd.get_dummies(df_actual, columns=['FACULTAD'])\n",
    "df_actual = pd.get_dummies(df_actual, columns=['TIPOI'])\n",
    "df_actual = pd.get_dummies(df_actual, columns=['CARRERA'])\n",
    "df_actual = pd.get_dummies(df_actual, columns=['TIPO_PROGRAMA'])\n",
    "df_actual = pd.get_dummies(df_actual, columns=['ASP_LOCALIDAD'])\n",
    "\n",
    "#df_historico = df_historico.drop(columns=['FACULTAD'])"
   ]
  },
  {
   "cell_type": "code",
   "execution_count": 48,
   "id": "83ecece4-82bf-49cf-813b-a14647bfcb83",
   "metadata": {},
   "outputs": [
    {
     "data": {
      "text/plain": [
       "EST_COD                  37836\n",
       "ASP_SEXO                     2\n",
       "ASP_ESTRATO                  6\n",
       "ASP_FECHA_NAC             6121\n",
       "ASP_LUG_NAC                670\n",
       "TIPO_COD                    12\n",
       "TIPOI                       12\n",
       "PUNTAJE_ICFES              358\n",
       "EST_VALOR_MATRICULA       5065\n",
       "CRA_COD                     68\n",
       "CARRERA                     24\n",
       "ASI_COD                     16\n",
       "NOTA                        51\n",
       "ANO                         11\n",
       "PER                          3\n",
       "FACULTAD                     5\n",
       "TIPO_PROGRAMA                5\n",
       "ASP_LOCALIDAD               23\n",
       "ASP_DEP_NAC                 35\n",
       "ASP_SNP                  36610\n",
       "ASP_TIPO_COLEGIO             2\n",
       "ASP_LOCALIDAD_COLEGIO       24\n",
       "ASP_TRABAJA                  2\n",
       "ANIO_ICFES                  24\n",
       "EDAD                        43\n",
       "APRUEBA                      2\n",
       "fecha_registro              26\n",
       "dtype: int64"
      ]
     },
     "execution_count": 48,
     "metadata": {},
     "output_type": "execute_result"
    }
   ],
   "source": [
    "df_historico.nunique()"
   ]
  },
  {
   "cell_type": "code",
   "execution_count": 49,
   "id": "89bed030-83c7-4b01-bd47-2ab2c304e43c",
   "metadata": {},
   "outputs": [
    {
     "data": {
      "text/html": [
       "<div>\n",
       "<style scoped>\n",
       "    .dataframe tbody tr th:only-of-type {\n",
       "        vertical-align: middle;\n",
       "    }\n",
       "\n",
       "    .dataframe tbody tr th {\n",
       "        vertical-align: top;\n",
       "    }\n",
       "\n",
       "    .dataframe thead th {\n",
       "        text-align: right;\n",
       "    }\n",
       "</style>\n",
       "<table border=\"1\" class=\"dataframe\">\n",
       "  <thead>\n",
       "    <tr style=\"text-align: right;\">\n",
       "      <th></th>\n",
       "      <th>EST_COD</th>\n",
       "      <th>ASP_SEXO</th>\n",
       "      <th>ASP_ESTRATO</th>\n",
       "      <th>ASP_FECHA_NAC</th>\n",
       "      <th>ASP_LUG_NAC</th>\n",
       "      <th>TIPO_COD</th>\n",
       "      <th>TIPOI</th>\n",
       "      <th>PUNTAJE_ICFES</th>\n",
       "      <th>EST_VALOR_MATRICULA</th>\n",
       "      <th>CRA_COD</th>\n",
       "      <th>...</th>\n",
       "      <th>ASP_LOCALIDAD</th>\n",
       "      <th>ASP_DEP_NAC</th>\n",
       "      <th>ASP_SNP</th>\n",
       "      <th>ASP_TIPO_COLEGIO</th>\n",
       "      <th>ASP_LOCALIDAD_COLEGIO</th>\n",
       "      <th>ASP_TRABAJA</th>\n",
       "      <th>ANIO_ICFES</th>\n",
       "      <th>EDAD</th>\n",
       "      <th>APRUEBA</th>\n",
       "      <th>fecha_registro</th>\n",
       "    </tr>\n",
       "  </thead>\n",
       "  <tbody>\n",
       "    <tr>\n",
       "      <th>30227</th>\n",
       "      <td>20151578073</td>\n",
       "      <td>1</td>\n",
       "      <td>3</td>\n",
       "      <td>1996-10-25</td>\n",
       "      <td>11001</td>\n",
       "      <td>1</td>\n",
       "      <td>NORMAL</td>\n",
       "      <td>268</td>\n",
       "      <td>860713</td>\n",
       "      <td>578</td>\n",
       "      <td>...</td>\n",
       "      <td>11</td>\n",
       "      <td>11</td>\n",
       "      <td>AC201422389278</td>\n",
       "      <td>0</td>\n",
       "      <td>11</td>\n",
       "      <td>0</td>\n",
       "      <td>2014</td>\n",
       "      <td>19</td>\n",
       "      <td>0</td>\n",
       "      <td>2015-03-01</td>\n",
       "    </tr>\n",
       "    <tr>\n",
       "      <th>13903</th>\n",
       "      <td>20222007104</td>\n",
       "      <td>0</td>\n",
       "      <td>3</td>\n",
       "      <td>2004-07-17</td>\n",
       "      <td>11001</td>\n",
       "      <td>1</td>\n",
       "      <td>NORMAL</td>\n",
       "      <td>283</td>\n",
       "      <td>2394240</td>\n",
       "      <td>7</td>\n",
       "      <td>...</td>\n",
       "      <td>11</td>\n",
       "      <td>11</td>\n",
       "      <td>AC202144444188</td>\n",
       "      <td>1</td>\n",
       "      <td>11</td>\n",
       "      <td>0</td>\n",
       "      <td>2021</td>\n",
       "      <td>18</td>\n",
       "      <td>1</td>\n",
       "      <td>2022-09-01</td>\n",
       "    </tr>\n",
       "    <tr>\n",
       "      <th>21251</th>\n",
       "      <td>20222020077</td>\n",
       "      <td>1</td>\n",
       "      <td>2</td>\n",
       "      <td>2004-06-28</td>\n",
       "      <td>73001</td>\n",
       "      <td>1</td>\n",
       "      <td>NORMAL</td>\n",
       "      <td>360</td>\n",
       "      <td>464000</td>\n",
       "      <td>20</td>\n",
       "      <td>...</td>\n",
       "      <td>7</td>\n",
       "      <td>73</td>\n",
       "      <td>AC202210812230</td>\n",
       "      <td>1</td>\n",
       "      <td>7</td>\n",
       "      <td>0</td>\n",
       "      <td>2022</td>\n",
       "      <td>18</td>\n",
       "      <td>0</td>\n",
       "      <td>2022-09-01</td>\n",
       "    </tr>\n",
       "    <tr>\n",
       "      <th>28255</th>\n",
       "      <td>20231180027</td>\n",
       "      <td>0</td>\n",
       "      <td>2</td>\n",
       "      <td>2006-03-24</td>\n",
       "      <td>25754</td>\n",
       "      <td>1</td>\n",
       "      <td>NORMAL</td>\n",
       "      <td>349</td>\n",
       "      <td>150800</td>\n",
       "      <td>180</td>\n",
       "      <td>...</td>\n",
       "      <td>26</td>\n",
       "      <td>25</td>\n",
       "      <td>AC202242300762</td>\n",
       "      <td>1</td>\n",
       "      <td>26</td>\n",
       "      <td>0</td>\n",
       "      <td>2022</td>\n",
       "      <td>17</td>\n",
       "      <td>1</td>\n",
       "      <td>2023-03-01</td>\n",
       "    </tr>\n",
       "    <tr>\n",
       "      <th>15255</th>\n",
       "      <td>20132185237</td>\n",
       "      <td>0</td>\n",
       "      <td>3</td>\n",
       "      <td>1995-06-30</td>\n",
       "      <td>11001</td>\n",
       "      <td>1</td>\n",
       "      <td>NORMAL</td>\n",
       "      <td>370</td>\n",
       "      <td>101559</td>\n",
       "      <td>185</td>\n",
       "      <td>...</td>\n",
       "      <td>11</td>\n",
       "      <td>11</td>\n",
       "      <td>AC201310180661</td>\n",
       "      <td>1</td>\n",
       "      <td>11</td>\n",
       "      <td>0</td>\n",
       "      <td>2013</td>\n",
       "      <td>19</td>\n",
       "      <td>1</td>\n",
       "      <td>2014-09-01</td>\n",
       "    </tr>\n",
       "  </tbody>\n",
       "</table>\n",
       "<p>5 rows × 27 columns</p>\n",
       "</div>"
      ],
      "text/plain": [
       "           EST_COD  ASP_SEXO  ASP_ESTRATO ASP_FECHA_NAC  ASP_LUG_NAC  \\\n",
       "30227  20151578073         1            3    1996-10-25        11001   \n",
       "13903  20222007104         0            3    2004-07-17        11001   \n",
       "21251  20222020077         1            2    2004-06-28        73001   \n",
       "28255  20231180027         0            2    2006-03-24        25754   \n",
       "15255  20132185237         0            3    1995-06-30        11001   \n",
       "\n",
       "       TIPO_COD   TIPOI  PUNTAJE_ICFES  EST_VALOR_MATRICULA  CRA_COD  ...  \\\n",
       "30227         1  NORMAL            268               860713      578  ...   \n",
       "13903         1  NORMAL            283              2394240        7  ...   \n",
       "21251         1  NORMAL            360               464000       20  ...   \n",
       "28255         1  NORMAL            349               150800      180  ...   \n",
       "15255         1  NORMAL            370               101559      185  ...   \n",
       "\n",
       "       ASP_LOCALIDAD  ASP_DEP_NAC         ASP_SNP  ASP_TIPO_COLEGIO  \\\n",
       "30227             11           11  AC201422389278                 0   \n",
       "13903             11           11  AC202144444188                 1   \n",
       "21251              7           73  AC202210812230                 1   \n",
       "28255             26           25  AC202242300762                 1   \n",
       "15255             11           11  AC201310180661                 1   \n",
       "\n",
       "       ASP_LOCALIDAD_COLEGIO  ASP_TRABAJA  ANIO_ICFES  EDAD  APRUEBA  \\\n",
       "30227                     11            0        2014    19        0   \n",
       "13903                     11            0        2021    18        1   \n",
       "21251                      7            0        2022    18        0   \n",
       "28255                     26            0        2022    17        1   \n",
       "15255                     11            0        2013    19        1   \n",
       "\n",
       "      fecha_registro  \n",
       "30227     2015-03-01  \n",
       "13903     2022-09-01  \n",
       "21251     2022-09-01  \n",
       "28255     2023-03-01  \n",
       "15255     2014-09-01  \n",
       "\n",
       "[5 rows x 27 columns]"
      ]
     },
     "execution_count": 49,
     "metadata": {},
     "output_type": "execute_result"
    }
   ],
   "source": [
    "df_historico.sample(5)"
   ]
  },
  {
   "cell_type": "code",
   "execution_count": 50,
   "id": "2ce2e377-2841-4e1d-bb32-3fd54e4f0261",
   "metadata": {},
   "outputs": [],
   "source": [
    "train_dropped_df = df_historico.drop([\n",
    "'EST_COD', \n",
    "#'ASP_SEXO', \n",
    "#'ASP_ESTRATO', #5103 \n",
    "'ASP_FECHA_NAC', \n",
    "'ASP_LUG_NAC', \n",
    "#'TIPO_COD', #5079\n",
    "'TIPOI', \n",
    "#'PUNTAJE_ICFES', #5142 con datos escalados 5004 sin datos escalados, 5016 con valores escalados \n",
    "'EST_VALOR_MATRICULA', #5004 sin valores escalados, 5016 con valores escalados \n",
    "'CRA_COD', \n",
    "#'CARRERA',#5055 no se escala, no es un valor ordinal \n",
    "'ASI_COD', \n",
    "'NOTA', \n",
    "#'ANO', \n",
    "#'PER', #5091\n",
    "#'FACULTAD', #5055 no se escala, no es un valor ordinal \n",
    "#'TIPO_PROGRAMA', #5272\n",
    "#'ASP_LOCALIDAD',#5075\n",
    "'ASP_DEP_NAC', \n",
    "'ASP_SNP', \n",
    "#'ASP_TIPO_COLEGIO', #5125\n",
    "'ASP_LOCALIDAD_COLEGIO', \n",
    "#'ASP_TRABAJA', #5055\n",
    "'ANIO_ICFES', \n",
    "#'EDAD', #5218\n",
    "#'APRUEBA', \n",
    "'fecha_registro'\n",
    "],axis=1)\n"
   ]
  },
  {
   "cell_type": "code",
   "execution_count": 51,
   "id": "edcc020c-1d3f-45a1-8713-9005bbe57b65",
   "metadata": {},
   "outputs": [
    {
     "data": {
      "text/html": [
       "<div>\n",
       "<style scoped>\n",
       "    .dataframe tbody tr th:only-of-type {\n",
       "        vertical-align: middle;\n",
       "    }\n",
       "\n",
       "    .dataframe tbody tr th {\n",
       "        vertical-align: top;\n",
       "    }\n",
       "\n",
       "    .dataframe thead th {\n",
       "        text-align: right;\n",
       "    }\n",
       "</style>\n",
       "<table border=\"1\" class=\"dataframe\">\n",
       "  <thead>\n",
       "    <tr style=\"text-align: right;\">\n",
       "      <th></th>\n",
       "      <th>ASP_SEXO</th>\n",
       "      <th>ASP_ESTRATO</th>\n",
       "      <th>TIPO_COD</th>\n",
       "      <th>PUNTAJE_ICFES</th>\n",
       "      <th>CARRERA</th>\n",
       "      <th>ANO</th>\n",
       "      <th>PER</th>\n",
       "      <th>FACULTAD</th>\n",
       "      <th>TIPO_PROGRAMA</th>\n",
       "      <th>ASP_LOCALIDAD</th>\n",
       "      <th>ASP_TIPO_COLEGIO</th>\n",
       "      <th>ASP_TRABAJA</th>\n",
       "      <th>EDAD</th>\n",
       "      <th>APRUEBA</th>\n",
       "    </tr>\n",
       "  </thead>\n",
       "  <tbody>\n",
       "    <tr>\n",
       "      <th>32232</th>\n",
       "      <td>1</td>\n",
       "      <td>2</td>\n",
       "      <td>1</td>\n",
       "      <td>294</td>\n",
       "      <td>15</td>\n",
       "      <td>2018</td>\n",
       "      <td>1</td>\n",
       "      <td>3</td>\n",
       "      <td>3</td>\n",
       "      <td>8</td>\n",
       "      <td>0</td>\n",
       "      <td>0</td>\n",
       "      <td>19</td>\n",
       "      <td>1</td>\n",
       "    </tr>\n",
       "    <tr>\n",
       "      <th>24749</th>\n",
       "      <td>1</td>\n",
       "      <td>3</td>\n",
       "      <td>1</td>\n",
       "      <td>370</td>\n",
       "      <td>2</td>\n",
       "      <td>2017</td>\n",
       "      <td>3</td>\n",
       "      <td>4</td>\n",
       "      <td>1</td>\n",
       "      <td>10</td>\n",
       "      <td>1</td>\n",
       "      <td>0</td>\n",
       "      <td>18</td>\n",
       "      <td>1</td>\n",
       "    </tr>\n",
       "    <tr>\n",
       "      <th>662</th>\n",
       "      <td>1</td>\n",
       "      <td>2</td>\n",
       "      <td>1</td>\n",
       "      <td>424</td>\n",
       "      <td>11</td>\n",
       "      <td>2014</td>\n",
       "      <td>1</td>\n",
       "      <td>1</td>\n",
       "      <td>11</td>\n",
       "      <td>19</td>\n",
       "      <td>1</td>\n",
       "      <td>0</td>\n",
       "      <td>19</td>\n",
       "      <td>0</td>\n",
       "    </tr>\n",
       "    <tr>\n",
       "      <th>20694</th>\n",
       "      <td>1</td>\n",
       "      <td>3</td>\n",
       "      <td>32</td>\n",
       "      <td>284</td>\n",
       "      <td>2</td>\n",
       "      <td>2022</td>\n",
       "      <td>3</td>\n",
       "      <td>4</td>\n",
       "      <td>1</td>\n",
       "      <td>10</td>\n",
       "      <td>0</td>\n",
       "      <td>0</td>\n",
       "      <td>17</td>\n",
       "      <td>0</td>\n",
       "    </tr>\n",
       "    <tr>\n",
       "      <th>50876</th>\n",
       "      <td>1</td>\n",
       "      <td>2</td>\n",
       "      <td>1</td>\n",
       "      <td>397</td>\n",
       "      <td>16</td>\n",
       "      <td>2014</td>\n",
       "      <td>1</td>\n",
       "      <td>3</td>\n",
       "      <td>3</td>\n",
       "      <td>4</td>\n",
       "      <td>0</td>\n",
       "      <td>0</td>\n",
       "      <td>20</td>\n",
       "      <td>0</td>\n",
       "    </tr>\n",
       "  </tbody>\n",
       "</table>\n",
       "</div>"
      ],
      "text/plain": [
       "       ASP_SEXO  ASP_ESTRATO  TIPO_COD  PUNTAJE_ICFES  CARRERA   ANO  PER  \\\n",
       "32232         1            2         1            294       15  2018    1   \n",
       "24749         1            3         1            370        2  2017    3   \n",
       "662           1            2         1            424       11  2014    1   \n",
       "20694         1            3        32            284        2  2022    3   \n",
       "50876         1            2         1            397       16  2014    1   \n",
       "\n",
       "       FACULTAD  TIPO_PROGRAMA  ASP_LOCALIDAD  ASP_TIPO_COLEGIO  ASP_TRABAJA  \\\n",
       "32232         3              3              8                 0            0   \n",
       "24749         4              1             10                 1            0   \n",
       "662           1             11             19                 1            0   \n",
       "20694         4              1             10                 0            0   \n",
       "50876         3              3              4                 0            0   \n",
       "\n",
       "       EDAD  APRUEBA  \n",
       "32232    19        1  \n",
       "24749    18        1  \n",
       "662      19        0  \n",
       "20694    17        0  \n",
       "50876    20        0  "
      ]
     },
     "execution_count": 51,
     "metadata": {},
     "output_type": "execute_result"
    }
   ],
   "source": [
    "train_dropped_df.sample(5)"
   ]
  },
  {
   "cell_type": "code",
   "execution_count": 52,
   "id": "accc2bbd-270a-419e-a534-c4516f02a38e",
   "metadata": {},
   "outputs": [
    {
     "name": "stdout",
     "output_type": "stream",
     "text": [
      "<class 'pandas.core.frame.DataFrame'>\n",
      "RangeIndex: 56982 entries, 0 to 56981\n",
      "Data columns (total 14 columns):\n",
      " #   Column            Non-Null Count  Dtype\n",
      "---  ------            --------------  -----\n",
      " 0   ASP_SEXO          56982 non-null  int64\n",
      " 1   ASP_ESTRATO       56982 non-null  int64\n",
      " 2   TIPO_COD          56982 non-null  int64\n",
      " 3   PUNTAJE_ICFES     56982 non-null  int64\n",
      " 4   CARRERA           56982 non-null  int64\n",
      " 5   ANO               56982 non-null  int64\n",
      " 6   PER               56982 non-null  int64\n",
      " 7   FACULTAD          56982 non-null  int64\n",
      " 8   TIPO_PROGRAMA     56982 non-null  int64\n",
      " 9   ASP_LOCALIDAD     56982 non-null  int64\n",
      " 10  ASP_TIPO_COLEGIO  56982 non-null  int64\n",
      " 11  ASP_TRABAJA       56982 non-null  int64\n",
      " 12  EDAD              56982 non-null  int64\n",
      " 13  APRUEBA           56982 non-null  int64\n",
      "dtypes: int64(14)\n",
      "memory usage: 6.1 MB\n"
     ]
    }
   ],
   "source": [
    "train_dropped_df = train_dropped_df.astype('int')\n",
    "train_dropped_df.info()"
   ]
  },
  {
   "cell_type": "code",
   "execution_count": 53,
   "id": "3cb87a57-c142-459c-b21a-c5f0732fad7c",
   "metadata": {
    "tags": []
   },
   "outputs": [
    {
     "data": {
      "text/plain": [
       "<AxesSubplot:title={'center':'Pearson - correlacion de caracteristicas'}>"
      ]
     },
     "execution_count": 53,
     "metadata": {},
     "output_type": "execute_result"
    },
    {
     "data": {
      "image/png": "[encoded data removed]",
      "text/plain": [
       "<Figure size 1440x1008 with 2 Axes>"
      ]
     },
     "metadata": {
      "needs_background": "light"
     },
     "output_type": "display_data"
    }
   ],
   "source": [
    "colormap = plt.cm.RdBu\n",
    "plt.figure(figsize=(20,14))\n",
    "plt.title('Pearson - correlacion de caracteristicas', y=1.05, size=15)\n",
    "sns.heatmap(train_dropped_df.corr(),\n",
    "            vmin=-1,\n",
    "            vmax=1,\n",
    "            cmap='RdBu',\n",
    "            annot=True)"
   ]
  },
  {
   "cell_type": "code",
   "execution_count": 54,
   "id": "69c20ef9-ecb8-402c-98da-161b55479a98",
   "metadata": {},
   "outputs": [
    {
     "name": "stdout",
     "output_type": "stream",
     "text": [
      "<class 'pandas.core.frame.DataFrame'>\n",
      "RangeIndex: 56982 entries, 0 to 56981\n",
      "Data columns (total 14 columns):\n",
      " #   Column            Non-Null Count  Dtype\n",
      "---  ------            --------------  -----\n",
      " 0   ASP_SEXO          56982 non-null  int64\n",
      " 1   ASP_ESTRATO       56982 non-null  int64\n",
      " 2   TIPO_COD          56982 non-null  int64\n",
      " 3   PUNTAJE_ICFES     56982 non-null  int64\n",
      " 4   CARRERA           56982 non-null  int64\n",
      " 5   ANO               56982 non-null  int64\n",
      " 6   PER               56982 non-null  int64\n",
      " 7   FACULTAD          56982 non-null  int64\n",
      " 8   TIPO_PROGRAMA     56982 non-null  int64\n",
      " 9   ASP_LOCALIDAD     56982 non-null  int64\n",
      " 10  ASP_TIPO_COLEGIO  56982 non-null  int64\n",
      " 11  ASP_TRABAJA       56982 non-null  int64\n",
      " 12  EDAD              56982 non-null  int64\n",
      " 13  APRUEBA           56982 non-null  int64\n",
      "dtypes: int64(14)\n",
      "memory usage: 6.1 MB\n"
     ]
    }
   ],
   "source": [
    "train_dropped_df.info()"
   ]
  },
  {
   "cell_type": "code",
   "execution_count": 55,
   "id": "5f0623f2-4be6-4285-8925-b70452238d0f",
   "metadata": {},
   "outputs": [
    {
     "data": {
      "text/plain": [
       "ASP_SEXO            0\n",
       "ASP_ESTRATO         0\n",
       "TIPO_COD            0\n",
       "PUNTAJE_ICFES       0\n",
       "CARRERA             0\n",
       "ANO                 0\n",
       "PER                 0\n",
       "FACULTAD            0\n",
       "TIPO_PROGRAMA       0\n",
       "ASP_LOCALIDAD       0\n",
       "ASP_TIPO_COLEGIO    0\n",
       "ASP_TRABAJA         0\n",
       "EDAD                0\n",
       "APRUEBA             0\n",
       "dtype: int64"
      ]
     },
     "execution_count": 55,
     "metadata": {},
     "output_type": "execute_result"
    }
   ],
   "source": [
    "train_dropped_df.isnull().sum()"
   ]
  },
  {
   "cell_type": "code",
   "execution_count": 56,
   "id": "560251a6-037f-4515-98ad-4699d5bd91a1",
   "metadata": {},
   "outputs": [],
   "source": [
    "#scaler = StandardScaler()\n",
    "\n",
    "#seleccionando vector de caracteristicas y variable objetivo\n",
    "\n",
    "X = train_dropped_df.drop(['APRUEBA'], axis=1)\n",
    "\n",
    "y = train_dropped_df['APRUEBA']"
   ]
  },
  {
   "cell_type": "code",
   "execution_count": 57,
   "id": "d880c8f4-a03f-4bf9-9191-3236b0645eb0",
   "metadata": {},
   "outputs": [],
   "source": [
    "X_train, X_test, y_train, y_test = train_test_split(X, y, test_size = 0.3, random_state = 0)"
   ]
  },
  {
   "cell_type": "code",
   "execution_count": 58,
   "id": "07640001-5008-4121-893b-e82cd942c759",
   "metadata": {},
   "outputs": [],
   "source": [
    "scaler = StandardScaler()\n",
    "\n",
    "X_train = pd.DataFrame(scaler.fit_transform(X_train), columns = X.columns)\n",
    "\n",
    "X_test = pd.DataFrame(scaler.transform(X_test), columns = X.columns)"
   ]
  },
  {
   "cell_type": "code",
   "execution_count": 59,
   "id": "cc44675d-9821-417d-b76b-74d7d68b872c",
   "metadata": {},
   "outputs": [],
   "source": [
    "logreg = LogisticRegression(solver='liblinear', random_state=0)\n",
    "logreg.fit(X_train, y_train)\n",
    "y_pred = logreg.predict(X_test)\n"
   ]
  },
  {
   "cell_type": "code",
   "execution_count": 60,
   "id": "ba2dcbe0-c660-469d-ba66-acbef06e5fe0",
   "metadata": {},
   "outputs": [
    {
     "data": {
      "text/plain": [
       "array([1, 0, 0, ..., 0, 0, 0])"
      ]
     },
     "execution_count": 60,
     "metadata": {},
     "output_type": "execute_result"
    }
   ],
   "source": [
    "df_historico['predicho'] = logreg.predict(X)\n",
    "\n",
    "y_pred"
   ]
  },
  {
   "cell_type": "markdown",
   "id": "9e4f6335-51b4-45d4-a97a-1672a19233a3",
   "metadata": {},
   "source": [
    "\n",
    "### Métricas de clasificación binaria:\n",
    "#### Exactitud: \n",
    "\n",
    "- Mide la corrección general del modelo.\n",
    "- Fórmula: (TP + TN) / (TP + TN + FP + FN)"
   ]
  },
  {
   "cell_type": "code",
   "execution_count": 61,
   "id": "6646da70-7a43-415b-b447-c2d5e0b28eb1",
   "metadata": {},
   "outputs": [
    {
     "name": "stdout",
     "output_type": "stream",
     "text": [
      "Logistic Regression accuracy score with all the features: 0.5717\n"
     ]
    }
   ],
   "source": [
    "print('Logistic Regression accuracy score with all the features: {0:0.4f}'. format(accuracy_score(y_test, y_pred)))"
   ]
  },
  {
   "cell_type": "markdown",
   "id": "deb04ed5-8ff5-41f3-bbba-7e7655fccc7d",
   "metadata": {},
   "source": [
    "#### Precisión:\n",
    "\n",
    "- Mide la fracción de instancias relevantes entre las instancias recuperadas.\n",
    "- Fórmula: TP / (TP + FP)"
   ]
  },
  {
   "cell_type": "code",
   "execution_count": 62,
   "id": "4eac1c5d-15c2-412a-a39a-35bec545ff9d",
   "metadata": {},
   "outputs": [],
   "source": [
    "from sklearn.metrics import precision_score"
   ]
  },
  {
   "cell_type": "code",
   "execution_count": 63,
   "id": "6f43c2a1-fa21-4448-a04d-805b66a2c5cb",
   "metadata": {},
   "outputs": [
    {
     "name": "stdout",
     "output_type": "stream",
     "text": [
      "Logistic Regression precision score with all the features: 0.5770\n"
     ]
    }
   ],
   "source": [
    "print('Logistic Regression precision score with all the features: {0:0.4f}'. format(precision_score(y_test, y_pred)))"
   ]
  },
  {
   "cell_type": "markdown",
   "id": "646d86d7-207e-4c79-9161-aa5727ad60db",
   "metadata": {},
   "source": [
    "#### Recuperación (sensibilidad o tasa de verdaderos positivos):\n",
    "\n",
    "- Mide la fracción de instancias relevantes que se han recuperado sobre la cantidad total de instancias relevantes.\n",
    "- Fórmula: TP / (TP + FN)"
   ]
  },
  {
   "cell_type": "code",
   "execution_count": 64,
   "id": "1bb87c10-33d7-441b-9257-52d221733aa0",
   "metadata": {},
   "outputs": [
    {
     "name": "stdout",
     "output_type": "stream",
     "text": [
      "Logistic Regression recall score with all the features: 0.5403\n"
     ]
    }
   ],
   "source": [
    "from sklearn.metrics import recall_score\n",
    "print('Logistic Regression recall score with all the features: {0:0.4f}'. format(recall_score(y_test, y_pred)))"
   ]
  },
  {
   "cell_type": "markdown",
   "id": "9bd0cefd-c575-4d40-8017-e9a7cbd939dc",
   "metadata": {},
   "source": [
    "#### Puntuación F1:\n",
    "\n",
    "- Combina precisión y recuperación en una sola métrica, proporcionando un equilibrio entre los dos.\n",
    "- Fórmula: 2 * (Precisión * Recuperación) / (Precisión + Recuperación)"
   ]
  },
  {
   "cell_type": "code",
   "execution_count": 65,
   "id": "a4e2df4b-ea17-4e6f-98c8-0d8fc0950434",
   "metadata": {},
   "outputs": [
    {
     "name": "stdout",
     "output_type": "stream",
     "text": [
      "Logistic Regression f1_score score with all the features: 0.5580\n"
     ]
    }
   ],
   "source": [
    "from sklearn.metrics import f1_score\n",
    "print('Logistic Regression f1_score score with all the features: {0:0.4f}'. format(f1_score(y_test, y_pred)))"
   ]
  },
  {
   "cell_type": "markdown",
   "id": "db2e5d1e-fa3b-4b4d-89c4-513dcc9f8d0f",
   "metadata": {},
   "source": [
    "#### Área bajo la curva característica operativa del receptor (AUC-ROC):\n",
    "\n",
    "- Evalúa la capacidad del modelo para distinguir entre clases positivas y negativas.\n",
    "- Los valores de AUC-ROC varían de 0 a 1, y los valores más altos indican un mejor rendimiento."
   ]
  },
  {
   "cell_type": "code",
   "execution_count": 66,
   "id": "6042449a-1fd9-41d3-a5bf-2bc8c6d512ab",
   "metadata": {},
   "outputs": [
    {
     "name": "stdout",
     "output_type": "stream",
     "text": [
      "Logistic Regression auc_roc score with all the features: 0.5718\n"
     ]
    }
   ],
   "source": [
    "from sklearn.metrics import roc_auc_score\n",
    "print('Logistic Regression auc_roc score with all the features: {0:0.4f}'. format(roc_auc_score(y_test, y_pred)))"
   ]
  },
  {
   "cell_type": "markdown",
   "id": "f7624e79-dc6a-4581-b673-d5a53441b56f",
   "metadata": {},
   "source": [
    "### Métricas de clasificación multiclase:\n",
    "#### Precisión multiclase:\n",
    "\n",
    "- Mide la corrección general del modelo para problemas multiclase.\n",
    "- Fórmula: (Número de instancias clasificadas correctamente) / (Número total de instancias)"
   ]
  },
  {
   "cell_type": "code",
   "execution_count": 67,
   "id": "6a8e5c18-86aa-497c-bb1c-aecf1137dd8b",
   "metadata": {},
   "outputs": [
    {
     "name": "stdout",
     "output_type": "stream",
     "text": [
      "Logistic Regression precision_macro score with all the features: 0.5721\n",
      "Logistic Regression recall_macro score with all the features: 0.5718\n",
      "Logistic Regression f1_macro score with all the features: 0.5713\n"
     ]
    }
   ],
   "source": [
    "from sklearn.metrics import precision_score, recall_score, f1_score\n",
    "print('Logistic Regression precision_macro score with all the features: {0:0.4f}'. format(precision_score(y_test, y_pred, average='macro')))\n",
    "print('Logistic Regression recall_macro score with all the features: {0:0.4f}'. format(recall_score(y_test, y_pred, average='macro')))\n",
    "print('Logistic Regression f1_macro score with all the features: {0:0.4f}'. format(f1_score(y_test, y_pred, average='macro')))"
   ]
  },
  {
   "cell_type": "markdown",
   "id": "0cca4187-b605-49c5-9eb1-744ccd23fb6f",
   "metadata": {},
   "source": [
    "#### Precisión micropromediada, recuperación y puntuación F1:\n",
    "\n",
    "Estas métricas agregan las contribuciones de todas las clases y luego calculan la precisión, la recuperación y la F1."
   ]
  },
  {
   "cell_type": "code",
   "execution_count": 68,
   "id": "fdb3b7be-6845-49f8-b2ab-17af5d35d24c",
   "metadata": {},
   "outputs": [
    {
     "name": "stdout",
     "output_type": "stream",
     "text": [
      "Logistic Regression precision_micro score with all the features: 0.5717\n",
      "Logistic Regression recall_micro score with all the features: 0.5717\n",
      "Logistic Regression f1_micro score with all the features: 0.5717\n"
     ]
    }
   ],
   "source": [
    "from sklearn.metrics import precision_score, recall_score, f1_score\n",
    "\n",
    "print('Logistic Regression precision_micro score with all the features: {0:0.4f}'. format(recall_score(y_test, y_pred, average='micro')))\n",
    "print('Logistic Regression recall_micro score with all the features: {0:0.4f}'. format(recall_score(y_test, y_pred, average='micro')))\n",
    "print('Logistic Regression f1_micro score with all the features: {0:0.4f}'. format(recall_score(y_test, y_pred, average='micro')))"
   ]
  },
  {
   "cell_type": "code",
   "execution_count": 69,
   "id": "d9bcd8df-ccf0-406f-8ca2-eca30dc0df61",
   "metadata": {},
   "outputs": [],
   "source": [
    "\n",
    "cm = confusion_matrix(y_test, y_pred)"
   ]
  },
  {
   "cell_type": "code",
   "execution_count": 70,
   "id": "30eef618-b24c-448f-9116-dfd89e30e6df",
   "metadata": {},
   "outputs": [
    {
     "data": {
      "image/png": "[encoded data removed]",
      "text/plain": [
       "<Figure size 576x576 with 1 Axes>"
      ]
     },
     "metadata": {
      "needs_background": "light"
     },
     "output_type": "display_data"
    }
   ],
   "source": [
    "plt.figure(figsize=(8, 8))\n",
    "sns.scatterplot(x=y_test, y=y_pred, hue=y_pred, marker='o', s=100, palette='viridis')\n",
    "plt.title('Predicted Values vs Actual Values')\n",
    "plt.xlabel('Actual Values')\n",
    "plt.ylabel('Predicted Values')\n",
    "plt.show()"
   ]
  },
  {
   "cell_type": "markdown",
   "id": "de7bf4b4-961f-4660-ac25-d819e7a949e3",
   "metadata": {},
   "source": [
    "Este diagrama de dispersión mostrará puntos donde el eje x representa los valores reales ( y_test), el eje y representa los valores predichos ( y_pred) y diferentes marcadores/colores indican diferentes clases predichas."
   ]
  },
  {
   "cell_type": "code",
   "execution_count": 71,
   "id": "ef4c947f-91e6-4118-a4b6-06460877370a",
   "metadata": {},
   "outputs": [
    {
     "data": {
      "image/png": "[encoded data removed]",
      "text/plain": [
       "<Figure size 576x576 with 1 Axes>"
      ]
     },
     "metadata": {
      "needs_background": "light"
     },
     "output_type": "display_data"
    }
   ],
   "source": [
    "plt.figure(figsize=(8, 8))\n",
    "sns.heatmap(cm, annot=True, fmt='d', cmap='Blues', cbar=False)\n",
    "plt.title('Confusion Matrix')\n",
    "plt.xlabel('Predicted')\n",
    "plt.ylabel('Actual')\n",
    "plt.show()"
   ]
  },
  {
   "cell_type": "markdown",
   "id": "e4974406-bdce-4ce3-b119-03e1dbd3f8d6",
   "metadata": {},
   "source": [
    "En esta matriz de confusión, las filas representan las clases reales y las columnas representan las clases predichas. Los elementos diagonales representan predicciones correctas, mientras que los elementos fuera de la diagonal representan clasificaciones erróneas."
   ]
  },
  {
   "cell_type": "markdown",
   "id": "2e3d9a7e-7dd1-4b96-8c2e-ad4c6f32f03b",
   "metadata": {},
   "source": [
    "### Agregamos una colummna nueva con los valores predichos "
   ]
  },
  {
   "cell_type": "code",
   "execution_count": null,
   "id": "02721315-dd65-494f-9bda-42468e76f8f7",
   "metadata": {},
   "outputs": [],
   "source": []
  },
  {
   "cell_type": "code",
   "execution_count": null,
   "id": "fa6b7bd8-5923-436c-9881-108e9ecf0183",
   "metadata": {},
   "outputs": [],
   "source": []
  },
  {
   "cell_type": "code",
   "execution_count": 73,
   "id": "be2fba8d-e594-40e3-b741-14b8df899059",
   "metadata": {},
   "outputs": [
    {
     "data": {
      "text/plain": [
       "1    28532\n",
       "0    28450\n",
       "Name: APRUEBA, dtype: int64"
      ]
     },
     "execution_count": 73,
     "metadata": {},
     "output_type": "execute_result"
    }
   ],
   "source": [
    "df_historico['APRUEBA'].value_counts()"
   ]
  },
  {
   "cell_type": "code",
   "execution_count": null,
   "id": "39e99966-35cc-442a-8d8e-dbdd6a84a3f5",
   "metadata": {},
   "outputs": [],
   "source": []
  },
  {
   "cell_type": "code",
   "execution_count": 74,
   "id": "3c2c0278-c320-4a8d-8bac-232dd56f1428",
   "metadata": {},
   "outputs": [],
   "source": [
    "#5717 con estandarizacion\n",
    "#5483 sin estandarizacion"
   ]
  },
  {
   "cell_type": "code",
   "execution_count": 75,
   "id": "926c09d4-65aa-4dc1-881a-7d4741a7186e",
   "metadata": {},
   "outputs": [
    {
     "data": {
      "text/plain": [
       "array([0.1441513 , 0.11011909, 0.09164794, 0.08339309, 0.08238044,\n",
       "       0.07729156, 0.0750737 , 0.07416073, 0.06575746, 0.06047459,\n",
       "       0.05766021, 0.05266611, 0.02522376])"
      ]
     },
     "execution_count": 75,
     "metadata": {},
     "output_type": "execute_result"
    }
   ],
   "source": [
    "pca = PCA()\n",
    "X_train = pca.fit_transform(X_train)\n",
    "pca.explained_variance_ratio_"
   ]
  },
  {
   "cell_type": "code",
   "execution_count": 76,
   "id": "ac29dbb8-fc50-4db3-9907-d7e0ce13b1c2",
   "metadata": {},
   "outputs": [
    {
     "name": "stdout",
     "output_type": "stream",
     "text": [
      "The number of dimensions required to preserve 90% of variance is 11\n"
     ]
    }
   ],
   "source": [
    "\n",
    "\n",
    "pca= PCA()\n",
    "pca.fit(X_train)\n",
    "cumsum = np.cumsum(pca.explained_variance_ratio_)\n",
    "dim = np.argmax(cumsum >= 0.90) + 1\n",
    "print('The number of dimensions required to preserve 90% of variance is',dim)"
   ]
  },
  {
   "cell_type": "code",
   "execution_count": 77,
   "id": "0f6c66f1-bf93-4f6f-92e7-3ccd99445deb",
   "metadata": {},
   "outputs": [
    {
     "data": {
      "image/png": "[encoded data removed]",
      "text/plain": [
       "<Figure size 576x432 with 1 Axes>"
      ]
     },
     "metadata": {
      "needs_background": "light"
     },
     "output_type": "display_data"
    }
   ],
   "source": [
    "plt.figure(figsize=(8,6))\n",
    "plt.plot(np.cumsum(pca.explained_variance_ratio_))\n",
    "plt.xlim(0,14,1)\n",
    "plt.xlabel('Number of components')\n",
    "plt.ylabel('Cumulative explained variance')\n",
    "plt.show()"
   ]
  },
  {
   "cell_type": "code",
   "execution_count": null,
   "id": "95786c64-360d-460d-9c65-0b2b7eba30e9",
   "metadata": {},
   "outputs": [],
   "source": []
  },
  {
   "cell_type": "code",
   "execution_count": null,
   "id": "59fd74b2-c17e-400f-8bee-80e09fa94fd2",
   "metadata": {},
   "outputs": [],
   "source": []
  },
  {
   "cell_type": "code",
   "execution_count": null,
   "id": "8ff5b5f6-f4eb-4cfc-a3c1-74c52a405405",
   "metadata": {},
   "outputs": [],
   "source": []
  }
 ],
 "metadata": {
  "kernelspec": {
   "display_name": "Python 3 (ipykernel)",
   "language": "python",
   "name": "python3"
  },
  "language_info": {
   "codemirror_mode": {
    "name": "ipython",
    "version": 3
   },
   "file_extension": ".py",
   "mimetype": "text/x-python",
   "name": "python",
   "nbconvert_exporter": "python",
   "pygments_lexer": "ipython3",
   "version": "3.9.12"
  }
 },
 "nbformat": 4,
 "nbformat_minor": 5
}
